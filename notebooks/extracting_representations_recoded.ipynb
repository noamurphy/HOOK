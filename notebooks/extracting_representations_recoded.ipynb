{
  "nbformat": 4,
  "nbformat_minor": 0,
  "metadata": {
    "colab": {
      "provenance": [],
      "machine_shape": "hm"
    },
    "kernelspec": {
      "name": "python3",
      "display_name": "Python 3"
    },
    "language_info": {
      "name": "python"
    },
    "gpuClass": "standard",
    "widgets": {
      "application/vnd.jupyter.widget-state+json": {
        "0dafa9832aaf42fd85ce8bf3156d554b": {
          "model_module": "@jupyter-widgets/controls",
          "model_name": "HBoxModel",
          "model_module_version": "1.5.0",
          "state": {
            "_dom_classes": [],
            "_model_module": "@jupyter-widgets/controls",
            "_model_module_version": "1.5.0",
            "_model_name": "HBoxModel",
            "_view_count": null,
            "_view_module": "@jupyter-widgets/controls",
            "_view_module_version": "1.5.0",
            "_view_name": "HBoxView",
            "box_style": "",
            "children": [
              "IPY_MODEL_0f4f003f86704426a80e74d76e0057ec",
              "IPY_MODEL_532dd18d18df419bba6b876e900865ac",
              "IPY_MODEL_79bd6b6d9ee44efe92c6b26d31907f3d"
            ],
            "layout": "IPY_MODEL_75790a566f6e49be90b83205b28439f4"
          }
        },
        "0f4f003f86704426a80e74d76e0057ec": {
          "model_module": "@jupyter-widgets/controls",
          "model_name": "HTMLModel",
          "model_module_version": "1.5.0",
          "state": {
            "_dom_classes": [],
            "_model_module": "@jupyter-widgets/controls",
            "_model_module_version": "1.5.0",
            "_model_name": "HTMLModel",
            "_view_count": null,
            "_view_module": "@jupyter-widgets/controls",
            "_view_module_version": "1.5.0",
            "_view_name": "HTMLView",
            "description": "",
            "description_tooltip": null,
            "layout": "IPY_MODEL_3e3c70d7275841088b06531d44c7e4ca",
            "placeholder": "​",
            "style": "IPY_MODEL_1f1eda1f2f6d4d36a33905f9fb6ba295",
            "value": "Downloading builder script: 100%"
          }
        },
        "532dd18d18df419bba6b876e900865ac": {
          "model_module": "@jupyter-widgets/controls",
          "model_name": "FloatProgressModel",
          "model_module_version": "1.5.0",
          "state": {
            "_dom_classes": [],
            "_model_module": "@jupyter-widgets/controls",
            "_model_module_version": "1.5.0",
            "_model_name": "FloatProgressModel",
            "_view_count": null,
            "_view_module": "@jupyter-widgets/controls",
            "_view_module_version": "1.5.0",
            "_view_name": "ProgressView",
            "bar_style": "success",
            "description": "",
            "description_tooltip": null,
            "layout": "IPY_MODEL_9836e020178a4689b15cfcdb0d9b8a3c",
            "max": 3375,
            "min": 0,
            "orientation": "horizontal",
            "style": "IPY_MODEL_2f49125bdefc438ea09133bf00fd4416",
            "value": 3375
          }
        },
        "79bd6b6d9ee44efe92c6b26d31907f3d": {
          "model_module": "@jupyter-widgets/controls",
          "model_name": "HTMLModel",
          "model_module_version": "1.5.0",
          "state": {
            "_dom_classes": [],
            "_model_module": "@jupyter-widgets/controls",
            "_model_module_version": "1.5.0",
            "_model_name": "HTMLModel",
            "_view_count": null,
            "_view_module": "@jupyter-widgets/controls",
            "_view_module_version": "1.5.0",
            "_view_name": "HTMLView",
            "description": "",
            "description_tooltip": null,
            "layout": "IPY_MODEL_9355c63927584eefbf437124089bc37e",
            "placeholder": "​",
            "style": "IPY_MODEL_4d023e5ad94c4fcf8d7907c35ff6ad9b",
            "value": " 3.38k/3.38k [00:00&lt;00:00, 249kB/s]"
          }
        },
        "75790a566f6e49be90b83205b28439f4": {
          "model_module": "@jupyter-widgets/base",
          "model_name": "LayoutModel",
          "model_module_version": "1.2.0",
          "state": {
            "_model_module": "@jupyter-widgets/base",
            "_model_module_version": "1.2.0",
            "_model_name": "LayoutModel",
            "_view_count": null,
            "_view_module": "@jupyter-widgets/base",
            "_view_module_version": "1.2.0",
            "_view_name": "LayoutView",
            "align_content": null,
            "align_items": null,
            "align_self": null,
            "border": null,
            "bottom": null,
            "display": null,
            "flex": null,
            "flex_flow": null,
            "grid_area": null,
            "grid_auto_columns": null,
            "grid_auto_flow": null,
            "grid_auto_rows": null,
            "grid_column": null,
            "grid_gap": null,
            "grid_row": null,
            "grid_template_areas": null,
            "grid_template_columns": null,
            "grid_template_rows": null,
            "height": null,
            "justify_content": null,
            "justify_items": null,
            "left": null,
            "margin": null,
            "max_height": null,
            "max_width": null,
            "min_height": null,
            "min_width": null,
            "object_fit": null,
            "object_position": null,
            "order": null,
            "overflow": null,
            "overflow_x": null,
            "overflow_y": null,
            "padding": null,
            "right": null,
            "top": null,
            "visibility": null,
            "width": null
          }
        },
        "3e3c70d7275841088b06531d44c7e4ca": {
          "model_module": "@jupyter-widgets/base",
          "model_name": "LayoutModel",
          "model_module_version": "1.2.0",
          "state": {
            "_model_module": "@jupyter-widgets/base",
            "_model_module_version": "1.2.0",
            "_model_name": "LayoutModel",
            "_view_count": null,
            "_view_module": "@jupyter-widgets/base",
            "_view_module_version": "1.2.0",
            "_view_name": "LayoutView",
            "align_content": null,
            "align_items": null,
            "align_self": null,
            "border": null,
            "bottom": null,
            "display": null,
            "flex": null,
            "flex_flow": null,
            "grid_area": null,
            "grid_auto_columns": null,
            "grid_auto_flow": null,
            "grid_auto_rows": null,
            "grid_column": null,
            "grid_gap": null,
            "grid_row": null,
            "grid_template_areas": null,
            "grid_template_columns": null,
            "grid_template_rows": null,
            "height": null,
            "justify_content": null,
            "justify_items": null,
            "left": null,
            "margin": null,
            "max_height": null,
            "max_width": null,
            "min_height": null,
            "min_width": null,
            "object_fit": null,
            "object_position": null,
            "order": null,
            "overflow": null,
            "overflow_x": null,
            "overflow_y": null,
            "padding": null,
            "right": null,
            "top": null,
            "visibility": null,
            "width": null
          }
        },
        "1f1eda1f2f6d4d36a33905f9fb6ba295": {
          "model_module": "@jupyter-widgets/controls",
          "model_name": "DescriptionStyleModel",
          "model_module_version": "1.5.0",
          "state": {
            "_model_module": "@jupyter-widgets/controls",
            "_model_module_version": "1.5.0",
            "_model_name": "DescriptionStyleModel",
            "_view_count": null,
            "_view_module": "@jupyter-widgets/base",
            "_view_module_version": "1.2.0",
            "_view_name": "StyleView",
            "description_width": ""
          }
        },
        "9836e020178a4689b15cfcdb0d9b8a3c": {
          "model_module": "@jupyter-widgets/base",
          "model_name": "LayoutModel",
          "model_module_version": "1.2.0",
          "state": {
            "_model_module": "@jupyter-widgets/base",
            "_model_module_version": "1.2.0",
            "_model_name": "LayoutModel",
            "_view_count": null,
            "_view_module": "@jupyter-widgets/base",
            "_view_module_version": "1.2.0",
            "_view_name": "LayoutView",
            "align_content": null,
            "align_items": null,
            "align_self": null,
            "border": null,
            "bottom": null,
            "display": null,
            "flex": null,
            "flex_flow": null,
            "grid_area": null,
            "grid_auto_columns": null,
            "grid_auto_flow": null,
            "grid_auto_rows": null,
            "grid_column": null,
            "grid_gap": null,
            "grid_row": null,
            "grid_template_areas": null,
            "grid_template_columns": null,
            "grid_template_rows": null,
            "height": null,
            "justify_content": null,
            "justify_items": null,
            "left": null,
            "margin": null,
            "max_height": null,
            "max_width": null,
            "min_height": null,
            "min_width": null,
            "object_fit": null,
            "object_position": null,
            "order": null,
            "overflow": null,
            "overflow_x": null,
            "overflow_y": null,
            "padding": null,
            "right": null,
            "top": null,
            "visibility": null,
            "width": null
          }
        },
        "2f49125bdefc438ea09133bf00fd4416": {
          "model_module": "@jupyter-widgets/controls",
          "model_name": "ProgressStyleModel",
          "model_module_version": "1.5.0",
          "state": {
            "_model_module": "@jupyter-widgets/controls",
            "_model_module_version": "1.5.0",
            "_model_name": "ProgressStyleModel",
            "_view_count": null,
            "_view_module": "@jupyter-widgets/base",
            "_view_module_version": "1.2.0",
            "_view_name": "StyleView",
            "bar_color": null,
            "description_width": ""
          }
        },
        "9355c63927584eefbf437124089bc37e": {
          "model_module": "@jupyter-widgets/base",
          "model_name": "LayoutModel",
          "model_module_version": "1.2.0",
          "state": {
            "_model_module": "@jupyter-widgets/base",
            "_model_module_version": "1.2.0",
            "_model_name": "LayoutModel",
            "_view_count": null,
            "_view_module": "@jupyter-widgets/base",
            "_view_module_version": "1.2.0",
            "_view_name": "LayoutView",
            "align_content": null,
            "align_items": null,
            "align_self": null,
            "border": null,
            "bottom": null,
            "display": null,
            "flex": null,
            "flex_flow": null,
            "grid_area": null,
            "grid_auto_columns": null,
            "grid_auto_flow": null,
            "grid_auto_rows": null,
            "grid_column": null,
            "grid_gap": null,
            "grid_row": null,
            "grid_template_areas": null,
            "grid_template_columns": null,
            "grid_template_rows": null,
            "height": null,
            "justify_content": null,
            "justify_items": null,
            "left": null,
            "margin": null,
            "max_height": null,
            "max_width": null,
            "min_height": null,
            "min_width": null,
            "object_fit": null,
            "object_position": null,
            "order": null,
            "overflow": null,
            "overflow_x": null,
            "overflow_y": null,
            "padding": null,
            "right": null,
            "top": null,
            "visibility": null,
            "width": null
          }
        },
        "4d023e5ad94c4fcf8d7907c35ff6ad9b": {
          "model_module": "@jupyter-widgets/controls",
          "model_name": "DescriptionStyleModel",
          "model_module_version": "1.5.0",
          "state": {
            "_model_module": "@jupyter-widgets/controls",
            "_model_module_version": "1.5.0",
            "_model_name": "DescriptionStyleModel",
            "_view_count": null,
            "_view_module": "@jupyter-widgets/base",
            "_view_module_version": "1.2.0",
            "_view_name": "StyleView",
            "description_width": ""
          }
        },
        "1717f1fb256f4142a392063bd63ee246": {
          "model_module": "@jupyter-widgets/controls",
          "model_name": "HBoxModel",
          "model_module_version": "1.5.0",
          "state": {
            "_dom_classes": [],
            "_model_module": "@jupyter-widgets/controls",
            "_model_module_version": "1.5.0",
            "_model_name": "HBoxModel",
            "_view_count": null,
            "_view_module": "@jupyter-widgets/controls",
            "_view_module_version": "1.5.0",
            "_view_name": "HBoxView",
            "box_style": "",
            "children": [
              "IPY_MODEL_174c5a88bcde42fabcbc06592d391ccb",
              "IPY_MODEL_bb6ec0a30e104e45813e49e5629fd2ed",
              "IPY_MODEL_9e3cadb88b8541069e9a73bc6f9f2b62"
            ],
            "layout": "IPY_MODEL_340d126fe5fa4f4ca10634936b51c82c"
          }
        },
        "174c5a88bcde42fabcbc06592d391ccb": {
          "model_module": "@jupyter-widgets/controls",
          "model_name": "HTMLModel",
          "model_module_version": "1.5.0",
          "state": {
            "_dom_classes": [],
            "_model_module": "@jupyter-widgets/controls",
            "_model_module_version": "1.5.0",
            "_model_name": "HTMLModel",
            "_view_count": null,
            "_view_module": "@jupyter-widgets/controls",
            "_view_module_version": "1.5.0",
            "_view_name": "HTMLView",
            "description": "",
            "description_tooltip": null,
            "layout": "IPY_MODEL_cfdb10e9663d4405b4f1588f004af854",
            "placeholder": "​",
            "style": "IPY_MODEL_ca6e00adb22a411eb8d782081ac7e9f5",
            "value": "Downloading readme: 100%"
          }
        },
        "bb6ec0a30e104e45813e49e5629fd2ed": {
          "model_module": "@jupyter-widgets/controls",
          "model_name": "FloatProgressModel",
          "model_module_version": "1.5.0",
          "state": {
            "_dom_classes": [],
            "_model_module": "@jupyter-widgets/controls",
            "_model_module_version": "1.5.0",
            "_model_name": "FloatProgressModel",
            "_view_count": null,
            "_view_module": "@jupyter-widgets/controls",
            "_view_module_version": "1.5.0",
            "_view_name": "ProgressView",
            "bar_style": "success",
            "description": "",
            "description_tooltip": null,
            "layout": "IPY_MODEL_88b55feb94c943a6b8e81ba9495c38c1",
            "max": 4424,
            "min": 0,
            "orientation": "horizontal",
            "style": "IPY_MODEL_0ad7f91edb804250b807cef8aa990974",
            "value": 4424
          }
        },
        "9e3cadb88b8541069e9a73bc6f9f2b62": {
          "model_module": "@jupyter-widgets/controls",
          "model_name": "HTMLModel",
          "model_module_version": "1.5.0",
          "state": {
            "_dom_classes": [],
            "_model_module": "@jupyter-widgets/controls",
            "_model_module_version": "1.5.0",
            "_model_name": "HTMLModel",
            "_view_count": null,
            "_view_module": "@jupyter-widgets/controls",
            "_view_module_version": "1.5.0",
            "_view_name": "HTMLView",
            "description": "",
            "description_tooltip": null,
            "layout": "IPY_MODEL_2534a28c7f334dacb668eacb20145852",
            "placeholder": "​",
            "style": "IPY_MODEL_42395c81f8d144ad98a0e9e140d98029",
            "value": " 4.42k/4.42k [00:00&lt;00:00, 210kB/s]"
          }
        },
        "340d126fe5fa4f4ca10634936b51c82c": {
          "model_module": "@jupyter-widgets/base",
          "model_name": "LayoutModel",
          "model_module_version": "1.2.0",
          "state": {
            "_model_module": "@jupyter-widgets/base",
            "_model_module_version": "1.2.0",
            "_model_name": "LayoutModel",
            "_view_count": null,
            "_view_module": "@jupyter-widgets/base",
            "_view_module_version": "1.2.0",
            "_view_name": "LayoutView",
            "align_content": null,
            "align_items": null,
            "align_self": null,
            "border": null,
            "bottom": null,
            "display": null,
            "flex": null,
            "flex_flow": null,
            "grid_area": null,
            "grid_auto_columns": null,
            "grid_auto_flow": null,
            "grid_auto_rows": null,
            "grid_column": null,
            "grid_gap": null,
            "grid_row": null,
            "grid_template_areas": null,
            "grid_template_columns": null,
            "grid_template_rows": null,
            "height": null,
            "justify_content": null,
            "justify_items": null,
            "left": null,
            "margin": null,
            "max_height": null,
            "max_width": null,
            "min_height": null,
            "min_width": null,
            "object_fit": null,
            "object_position": null,
            "order": null,
            "overflow": null,
            "overflow_x": null,
            "overflow_y": null,
            "padding": null,
            "right": null,
            "top": null,
            "visibility": null,
            "width": null
          }
        },
        "cfdb10e9663d4405b4f1588f004af854": {
          "model_module": "@jupyter-widgets/base",
          "model_name": "LayoutModel",
          "model_module_version": "1.2.0",
          "state": {
            "_model_module": "@jupyter-widgets/base",
            "_model_module_version": "1.2.0",
            "_model_name": "LayoutModel",
            "_view_count": null,
            "_view_module": "@jupyter-widgets/base",
            "_view_module_version": "1.2.0",
            "_view_name": "LayoutView",
            "align_content": null,
            "align_items": null,
            "align_self": null,
            "border": null,
            "bottom": null,
            "display": null,
            "flex": null,
            "flex_flow": null,
            "grid_area": null,
            "grid_auto_columns": null,
            "grid_auto_flow": null,
            "grid_auto_rows": null,
            "grid_column": null,
            "grid_gap": null,
            "grid_row": null,
            "grid_template_areas": null,
            "grid_template_columns": null,
            "grid_template_rows": null,
            "height": null,
            "justify_content": null,
            "justify_items": null,
            "left": null,
            "margin": null,
            "max_height": null,
            "max_width": null,
            "min_height": null,
            "min_width": null,
            "object_fit": null,
            "object_position": null,
            "order": null,
            "overflow": null,
            "overflow_x": null,
            "overflow_y": null,
            "padding": null,
            "right": null,
            "top": null,
            "visibility": null,
            "width": null
          }
        },
        "ca6e00adb22a411eb8d782081ac7e9f5": {
          "model_module": "@jupyter-widgets/controls",
          "model_name": "DescriptionStyleModel",
          "model_module_version": "1.5.0",
          "state": {
            "_model_module": "@jupyter-widgets/controls",
            "_model_module_version": "1.5.0",
            "_model_name": "DescriptionStyleModel",
            "_view_count": null,
            "_view_module": "@jupyter-widgets/base",
            "_view_module_version": "1.2.0",
            "_view_name": "StyleView",
            "description_width": ""
          }
        },
        "88b55feb94c943a6b8e81ba9495c38c1": {
          "model_module": "@jupyter-widgets/base",
          "model_name": "LayoutModel",
          "model_module_version": "1.2.0",
          "state": {
            "_model_module": "@jupyter-widgets/base",
            "_model_module_version": "1.2.0",
            "_model_name": "LayoutModel",
            "_view_count": null,
            "_view_module": "@jupyter-widgets/base",
            "_view_module_version": "1.2.0",
            "_view_name": "LayoutView",
            "align_content": null,
            "align_items": null,
            "align_self": null,
            "border": null,
            "bottom": null,
            "display": null,
            "flex": null,
            "flex_flow": null,
            "grid_area": null,
            "grid_auto_columns": null,
            "grid_auto_flow": null,
            "grid_auto_rows": null,
            "grid_column": null,
            "grid_gap": null,
            "grid_row": null,
            "grid_template_areas": null,
            "grid_template_columns": null,
            "grid_template_rows": null,
            "height": null,
            "justify_content": null,
            "justify_items": null,
            "left": null,
            "margin": null,
            "max_height": null,
            "max_width": null,
            "min_height": null,
            "min_width": null,
            "object_fit": null,
            "object_position": null,
            "order": null,
            "overflow": null,
            "overflow_x": null,
            "overflow_y": null,
            "padding": null,
            "right": null,
            "top": null,
            "visibility": null,
            "width": null
          }
        },
        "0ad7f91edb804250b807cef8aa990974": {
          "model_module": "@jupyter-widgets/controls",
          "model_name": "ProgressStyleModel",
          "model_module_version": "1.5.0",
          "state": {
            "_model_module": "@jupyter-widgets/controls",
            "_model_module_version": "1.5.0",
            "_model_name": "ProgressStyleModel",
            "_view_count": null,
            "_view_module": "@jupyter-widgets/base",
            "_view_module_version": "1.2.0",
            "_view_name": "StyleView",
            "bar_color": null,
            "description_width": ""
          }
        },
        "2534a28c7f334dacb668eacb20145852": {
          "model_module": "@jupyter-widgets/base",
          "model_name": "LayoutModel",
          "model_module_version": "1.2.0",
          "state": {
            "_model_module": "@jupyter-widgets/base",
            "_model_module_version": "1.2.0",
            "_model_name": "LayoutModel",
            "_view_count": null,
            "_view_module": "@jupyter-widgets/base",
            "_view_module_version": "1.2.0",
            "_view_name": "LayoutView",
            "align_content": null,
            "align_items": null,
            "align_self": null,
            "border": null,
            "bottom": null,
            "display": null,
            "flex": null,
            "flex_flow": null,
            "grid_area": null,
            "grid_auto_columns": null,
            "grid_auto_flow": null,
            "grid_auto_rows": null,
            "grid_column": null,
            "grid_gap": null,
            "grid_row": null,
            "grid_template_areas": null,
            "grid_template_columns": null,
            "grid_template_rows": null,
            "height": null,
            "justify_content": null,
            "justify_items": null,
            "left": null,
            "margin": null,
            "max_height": null,
            "max_width": null,
            "min_height": null,
            "min_width": null,
            "object_fit": null,
            "object_position": null,
            "order": null,
            "overflow": null,
            "overflow_x": null,
            "overflow_y": null,
            "padding": null,
            "right": null,
            "top": null,
            "visibility": null,
            "width": null
          }
        },
        "42395c81f8d144ad98a0e9e140d98029": {
          "model_module": "@jupyter-widgets/controls",
          "model_name": "DescriptionStyleModel",
          "model_module_version": "1.5.0",
          "state": {
            "_model_module": "@jupyter-widgets/controls",
            "_model_module_version": "1.5.0",
            "_model_name": "DescriptionStyleModel",
            "_view_count": null,
            "_view_module": "@jupyter-widgets/base",
            "_view_module_version": "1.2.0",
            "_view_name": "StyleView",
            "description_width": ""
          }
        },
        "8ab997243ea545cf99902c3f9fb59084": {
          "model_module": "@jupyter-widgets/controls",
          "model_name": "HBoxModel",
          "model_module_version": "1.5.0",
          "state": {
            "_dom_classes": [],
            "_model_module": "@jupyter-widgets/controls",
            "_model_module_version": "1.5.0",
            "_model_name": "HBoxModel",
            "_view_count": null,
            "_view_module": "@jupyter-widgets/controls",
            "_view_module_version": "1.5.0",
            "_view_name": "HBoxView",
            "box_style": "",
            "children": [
              "IPY_MODEL_8053d13d6e2e43378dba7b25524ce6fc",
              "IPY_MODEL_0c824f9e120e4e738174ea41db7481e5",
              "IPY_MODEL_da225ad5df1744bb8584b3bc6e58cc7b"
            ],
            "layout": "IPY_MODEL_80c92eaffd4a49f48cd6437126e687dd"
          }
        },
        "8053d13d6e2e43378dba7b25524ce6fc": {
          "model_module": "@jupyter-widgets/controls",
          "model_name": "HTMLModel",
          "model_module_version": "1.5.0",
          "state": {
            "_dom_classes": [],
            "_model_module": "@jupyter-widgets/controls",
            "_model_module_version": "1.5.0",
            "_model_name": "HTMLModel",
            "_view_count": null,
            "_view_module": "@jupyter-widgets/controls",
            "_view_module_version": "1.5.0",
            "_view_name": "HTMLView",
            "description": "",
            "description_tooltip": null,
            "layout": "IPY_MODEL_c3f470e855504595aa9549702bb3bf63",
            "placeholder": "​",
            "style": "IPY_MODEL_06db903762994631bc68f444c39b145d",
            "value": "Downloading data: 100%"
          }
        },
        "0c824f9e120e4e738174ea41db7481e5": {
          "model_module": "@jupyter-widgets/controls",
          "model_name": "FloatProgressModel",
          "model_module_version": "1.5.0",
          "state": {
            "_dom_classes": [],
            "_model_module": "@jupyter-widgets/controls",
            "_model_module_version": "1.5.0",
            "_model_name": "FloatProgressModel",
            "_view_count": null,
            "_view_module": "@jupyter-widgets/controls",
            "_view_module_version": "1.5.0",
            "_view_name": "ProgressView",
            "bar_style": "success",
            "description": "",
            "description_tooltip": null,
            "layout": "IPY_MODEL_82e083e112ed4e939ed927ac11f92282",
            "max": 1226192050,
            "min": 0,
            "orientation": "horizontal",
            "style": "IPY_MODEL_141ee1d7d8174c33929662157b5354e7",
            "value": 1226192050
          }
        },
        "da225ad5df1744bb8584b3bc6e58cc7b": {
          "model_module": "@jupyter-widgets/controls",
          "model_name": "HTMLModel",
          "model_module_version": "1.5.0",
          "state": {
            "_dom_classes": [],
            "_model_module": "@jupyter-widgets/controls",
            "_model_module_version": "1.5.0",
            "_model_name": "HTMLModel",
            "_view_count": null,
            "_view_module": "@jupyter-widgets/controls",
            "_view_module_version": "1.5.0",
            "_view_name": "HTMLView",
            "description": "",
            "description_tooltip": null,
            "layout": "IPY_MODEL_15c5ed4d312c4f75aa17cc6af91e8d6d",
            "placeholder": "​",
            "style": "IPY_MODEL_c9a0091f94274902a7580fbd9f33f0dd",
            "value": " 1.23G/1.23G [00:54&lt;00:00, 23.0MB/s]"
          }
        },
        "80c92eaffd4a49f48cd6437126e687dd": {
          "model_module": "@jupyter-widgets/base",
          "model_name": "LayoutModel",
          "model_module_version": "1.2.0",
          "state": {
            "_model_module": "@jupyter-widgets/base",
            "_model_module_version": "1.2.0",
            "_model_name": "LayoutModel",
            "_view_count": null,
            "_view_module": "@jupyter-widgets/base",
            "_view_module_version": "1.2.0",
            "_view_name": "LayoutView",
            "align_content": null,
            "align_items": null,
            "align_self": null,
            "border": null,
            "bottom": null,
            "display": null,
            "flex": null,
            "flex_flow": null,
            "grid_area": null,
            "grid_auto_columns": null,
            "grid_auto_flow": null,
            "grid_auto_rows": null,
            "grid_column": null,
            "grid_gap": null,
            "grid_row": null,
            "grid_template_areas": null,
            "grid_template_columns": null,
            "grid_template_rows": null,
            "height": null,
            "justify_content": null,
            "justify_items": null,
            "left": null,
            "margin": null,
            "max_height": null,
            "max_width": null,
            "min_height": null,
            "min_width": null,
            "object_fit": null,
            "object_position": null,
            "order": null,
            "overflow": null,
            "overflow_x": null,
            "overflow_y": null,
            "padding": null,
            "right": null,
            "top": null,
            "visibility": null,
            "width": null
          }
        },
        "c3f470e855504595aa9549702bb3bf63": {
          "model_module": "@jupyter-widgets/base",
          "model_name": "LayoutModel",
          "model_module_version": "1.2.0",
          "state": {
            "_model_module": "@jupyter-widgets/base",
            "_model_module_version": "1.2.0",
            "_model_name": "LayoutModel",
            "_view_count": null,
            "_view_module": "@jupyter-widgets/base",
            "_view_module_version": "1.2.0",
            "_view_name": "LayoutView",
            "align_content": null,
            "align_items": null,
            "align_self": null,
            "border": null,
            "bottom": null,
            "display": null,
            "flex": null,
            "flex_flow": null,
            "grid_area": null,
            "grid_auto_columns": null,
            "grid_auto_flow": null,
            "grid_auto_rows": null,
            "grid_column": null,
            "grid_gap": null,
            "grid_row": null,
            "grid_template_areas": null,
            "grid_template_columns": null,
            "grid_template_rows": null,
            "height": null,
            "justify_content": null,
            "justify_items": null,
            "left": null,
            "margin": null,
            "max_height": null,
            "max_width": null,
            "min_height": null,
            "min_width": null,
            "object_fit": null,
            "object_position": null,
            "order": null,
            "overflow": null,
            "overflow_x": null,
            "overflow_y": null,
            "padding": null,
            "right": null,
            "top": null,
            "visibility": null,
            "width": null
          }
        },
        "06db903762994631bc68f444c39b145d": {
          "model_module": "@jupyter-widgets/controls",
          "model_name": "DescriptionStyleModel",
          "model_module_version": "1.5.0",
          "state": {
            "_model_module": "@jupyter-widgets/controls",
            "_model_module_version": "1.5.0",
            "_model_name": "DescriptionStyleModel",
            "_view_count": null,
            "_view_module": "@jupyter-widgets/base",
            "_view_module_version": "1.2.0",
            "_view_name": "StyleView",
            "description_width": ""
          }
        },
        "82e083e112ed4e939ed927ac11f92282": {
          "model_module": "@jupyter-widgets/base",
          "model_name": "LayoutModel",
          "model_module_version": "1.2.0",
          "state": {
            "_model_module": "@jupyter-widgets/base",
            "_model_module_version": "1.2.0",
            "_model_name": "LayoutModel",
            "_view_count": null,
            "_view_module": "@jupyter-widgets/base",
            "_view_module_version": "1.2.0",
            "_view_name": "LayoutView",
            "align_content": null,
            "align_items": null,
            "align_self": null,
            "border": null,
            "bottom": null,
            "display": null,
            "flex": null,
            "flex_flow": null,
            "grid_area": null,
            "grid_auto_columns": null,
            "grid_auto_flow": null,
            "grid_auto_rows": null,
            "grid_column": null,
            "grid_gap": null,
            "grid_row": null,
            "grid_template_areas": null,
            "grid_template_columns": null,
            "grid_template_rows": null,
            "height": null,
            "justify_content": null,
            "justify_items": null,
            "left": null,
            "margin": null,
            "max_height": null,
            "max_width": null,
            "min_height": null,
            "min_width": null,
            "object_fit": null,
            "object_position": null,
            "order": null,
            "overflow": null,
            "overflow_x": null,
            "overflow_y": null,
            "padding": null,
            "right": null,
            "top": null,
            "visibility": null,
            "width": null
          }
        },
        "141ee1d7d8174c33929662157b5354e7": {
          "model_module": "@jupyter-widgets/controls",
          "model_name": "ProgressStyleModel",
          "model_module_version": "1.5.0",
          "state": {
            "_model_module": "@jupyter-widgets/controls",
            "_model_module_version": "1.5.0",
            "_model_name": "ProgressStyleModel",
            "_view_count": null,
            "_view_module": "@jupyter-widgets/base",
            "_view_module_version": "1.2.0",
            "_view_name": "StyleView",
            "bar_color": null,
            "description_width": ""
          }
        },
        "15c5ed4d312c4f75aa17cc6af91e8d6d": {
          "model_module": "@jupyter-widgets/base",
          "model_name": "LayoutModel",
          "model_module_version": "1.2.0",
          "state": {
            "_model_module": "@jupyter-widgets/base",
            "_model_module_version": "1.2.0",
            "_model_name": "LayoutModel",
            "_view_count": null,
            "_view_module": "@jupyter-widgets/base",
            "_view_module_version": "1.2.0",
            "_view_name": "LayoutView",
            "align_content": null,
            "align_items": null,
            "align_self": null,
            "border": null,
            "bottom": null,
            "display": null,
            "flex": null,
            "flex_flow": null,
            "grid_area": null,
            "grid_auto_columns": null,
            "grid_auto_flow": null,
            "grid_auto_rows": null,
            "grid_column": null,
            "grid_gap": null,
            "grid_row": null,
            "grid_template_areas": null,
            "grid_template_columns": null,
            "grid_template_rows": null,
            "height": null,
            "justify_content": null,
            "justify_items": null,
            "left": null,
            "margin": null,
            "max_height": null,
            "max_width": null,
            "min_height": null,
            "min_width": null,
            "object_fit": null,
            "object_position": null,
            "order": null,
            "overflow": null,
            "overflow_x": null,
            "overflow_y": null,
            "padding": null,
            "right": null,
            "top": null,
            "visibility": null,
            "width": null
          }
        },
        "c9a0091f94274902a7580fbd9f33f0dd": {
          "model_module": "@jupyter-widgets/controls",
          "model_name": "DescriptionStyleModel",
          "model_module_version": "1.5.0",
          "state": {
            "_model_module": "@jupyter-widgets/controls",
            "_model_module_version": "1.5.0",
            "_model_name": "DescriptionStyleModel",
            "_view_count": null,
            "_view_module": "@jupyter-widgets/base",
            "_view_module_version": "1.2.0",
            "_view_name": "StyleView",
            "description_width": ""
          }
        },
        "1238a72a3cde40f8b99c9131218cb62a": {
          "model_module": "@jupyter-widgets/controls",
          "model_name": "HBoxModel",
          "model_module_version": "1.5.0",
          "state": {
            "_dom_classes": [],
            "_model_module": "@jupyter-widgets/controls",
            "_model_module_version": "1.5.0",
            "_model_name": "HBoxModel",
            "_view_count": null,
            "_view_module": "@jupyter-widgets/controls",
            "_view_module_version": "1.5.0",
            "_view_name": "HBoxView",
            "box_style": "",
            "children": [
              "IPY_MODEL_3d79edc8e6ff4d2884591f980b6ab22d",
              "IPY_MODEL_e51189ae1163462d904f3657c1a8fffc",
              "IPY_MODEL_9ffcae4b74db4037a4b8c4996acf5c55"
            ],
            "layout": "IPY_MODEL_376af8ccaf1f4a77abd456b1f5389024"
          }
        },
        "3d79edc8e6ff4d2884591f980b6ab22d": {
          "model_module": "@jupyter-widgets/controls",
          "model_name": "HTMLModel",
          "model_module_version": "1.5.0",
          "state": {
            "_dom_classes": [],
            "_model_module": "@jupyter-widgets/controls",
            "_model_module_version": "1.5.0",
            "_model_name": "HTMLModel",
            "_view_count": null,
            "_view_module": "@jupyter-widgets/controls",
            "_view_module_version": "1.5.0",
            "_view_name": "HTMLView",
            "description": "",
            "description_tooltip": null,
            "layout": "IPY_MODEL_e85f5efded06424c8917d3690d9e59b5",
            "placeholder": "​",
            "style": "IPY_MODEL_75b0b55b347e43fe9aa16bf72229bc75",
            "value": "Generating train split: "
          }
        },
        "e51189ae1163462d904f3657c1a8fffc": {
          "model_module": "@jupyter-widgets/controls",
          "model_name": "FloatProgressModel",
          "model_module_version": "1.5.0",
          "state": {
            "_dom_classes": [],
            "_model_module": "@jupyter-widgets/controls",
            "_model_module_version": "1.5.0",
            "_model_name": "FloatProgressModel",
            "_view_count": null,
            "_view_module": "@jupyter-widgets/controls",
            "_view_module_version": "1.5.0",
            "_view_name": "ProgressView",
            "bar_style": "info",
            "description": "",
            "description_tooltip": null,
            "layout": "IPY_MODEL_1a4f28a60159412ea3baa84a104f5167",
            "max": 1,
            "min": 0,
            "orientation": "horizontal",
            "style": "IPY_MODEL_1ab836cd111d4107b2eab449b264d51e",
            "value": 1
          }
        },
        "9ffcae4b74db4037a4b8c4996acf5c55": {
          "model_module": "@jupyter-widgets/controls",
          "model_name": "HTMLModel",
          "model_module_version": "1.5.0",
          "state": {
            "_dom_classes": [],
            "_model_module": "@jupyter-widgets/controls",
            "_model_module_version": "1.5.0",
            "_model_name": "HTMLModel",
            "_view_count": null,
            "_view_module": "@jupyter-widgets/controls",
            "_view_module_version": "1.5.0",
            "_view_name": "HTMLView",
            "description": "",
            "description_tooltip": null,
            "layout": "IPY_MODEL_cd48e4c9c26d488fb10bf0ffe6dd041f",
            "placeholder": "​",
            "style": "IPY_MODEL_08442ff19d2f4a3f9b67209a561a1c7d",
            "value": " 999/0 [00:17&lt;00:00, 4741.77 examples/s]"
          }
        },
        "376af8ccaf1f4a77abd456b1f5389024": {
          "model_module": "@jupyter-widgets/base",
          "model_name": "LayoutModel",
          "model_module_version": "1.2.0",
          "state": {
            "_model_module": "@jupyter-widgets/base",
            "_model_module_version": "1.2.0",
            "_model_name": "LayoutModel",
            "_view_count": null,
            "_view_module": "@jupyter-widgets/base",
            "_view_module_version": "1.2.0",
            "_view_name": "LayoutView",
            "align_content": null,
            "align_items": null,
            "align_self": null,
            "border": null,
            "bottom": null,
            "display": null,
            "flex": null,
            "flex_flow": null,
            "grid_area": null,
            "grid_auto_columns": null,
            "grid_auto_flow": null,
            "grid_auto_rows": null,
            "grid_column": null,
            "grid_gap": null,
            "grid_row": null,
            "grid_template_areas": null,
            "grid_template_columns": null,
            "grid_template_rows": null,
            "height": null,
            "justify_content": null,
            "justify_items": null,
            "left": null,
            "margin": null,
            "max_height": null,
            "max_width": null,
            "min_height": null,
            "min_width": null,
            "object_fit": null,
            "object_position": null,
            "order": null,
            "overflow": null,
            "overflow_x": null,
            "overflow_y": null,
            "padding": null,
            "right": null,
            "top": null,
            "visibility": "hidden",
            "width": null
          }
        },
        "e85f5efded06424c8917d3690d9e59b5": {
          "model_module": "@jupyter-widgets/base",
          "model_name": "LayoutModel",
          "model_module_version": "1.2.0",
          "state": {
            "_model_module": "@jupyter-widgets/base",
            "_model_module_version": "1.2.0",
            "_model_name": "LayoutModel",
            "_view_count": null,
            "_view_module": "@jupyter-widgets/base",
            "_view_module_version": "1.2.0",
            "_view_name": "LayoutView",
            "align_content": null,
            "align_items": null,
            "align_self": null,
            "border": null,
            "bottom": null,
            "display": null,
            "flex": null,
            "flex_flow": null,
            "grid_area": null,
            "grid_auto_columns": null,
            "grid_auto_flow": null,
            "grid_auto_rows": null,
            "grid_column": null,
            "grid_gap": null,
            "grid_row": null,
            "grid_template_areas": null,
            "grid_template_columns": null,
            "grid_template_rows": null,
            "height": null,
            "justify_content": null,
            "justify_items": null,
            "left": null,
            "margin": null,
            "max_height": null,
            "max_width": null,
            "min_height": null,
            "min_width": null,
            "object_fit": null,
            "object_position": null,
            "order": null,
            "overflow": null,
            "overflow_x": null,
            "overflow_y": null,
            "padding": null,
            "right": null,
            "top": null,
            "visibility": null,
            "width": null
          }
        },
        "75b0b55b347e43fe9aa16bf72229bc75": {
          "model_module": "@jupyter-widgets/controls",
          "model_name": "DescriptionStyleModel",
          "model_module_version": "1.5.0",
          "state": {
            "_model_module": "@jupyter-widgets/controls",
            "_model_module_version": "1.5.0",
            "_model_name": "DescriptionStyleModel",
            "_view_count": null,
            "_view_module": "@jupyter-widgets/base",
            "_view_module_version": "1.2.0",
            "_view_name": "StyleView",
            "description_width": ""
          }
        },
        "1a4f28a60159412ea3baa84a104f5167": {
          "model_module": "@jupyter-widgets/base",
          "model_name": "LayoutModel",
          "model_module_version": "1.2.0",
          "state": {
            "_model_module": "@jupyter-widgets/base",
            "_model_module_version": "1.2.0",
            "_model_name": "LayoutModel",
            "_view_count": null,
            "_view_module": "@jupyter-widgets/base",
            "_view_module_version": "1.2.0",
            "_view_name": "LayoutView",
            "align_content": null,
            "align_items": null,
            "align_self": null,
            "border": null,
            "bottom": null,
            "display": null,
            "flex": null,
            "flex_flow": null,
            "grid_area": null,
            "grid_auto_columns": null,
            "grid_auto_flow": null,
            "grid_auto_rows": null,
            "grid_column": null,
            "grid_gap": null,
            "grid_row": null,
            "grid_template_areas": null,
            "grid_template_columns": null,
            "grid_template_rows": null,
            "height": null,
            "justify_content": null,
            "justify_items": null,
            "left": null,
            "margin": null,
            "max_height": null,
            "max_width": null,
            "min_height": null,
            "min_width": null,
            "object_fit": null,
            "object_position": null,
            "order": null,
            "overflow": null,
            "overflow_x": null,
            "overflow_y": null,
            "padding": null,
            "right": null,
            "top": null,
            "visibility": null,
            "width": "20px"
          }
        },
        "1ab836cd111d4107b2eab449b264d51e": {
          "model_module": "@jupyter-widgets/controls",
          "model_name": "ProgressStyleModel",
          "model_module_version": "1.5.0",
          "state": {
            "_model_module": "@jupyter-widgets/controls",
            "_model_module_version": "1.5.0",
            "_model_name": "ProgressStyleModel",
            "_view_count": null,
            "_view_module": "@jupyter-widgets/base",
            "_view_module_version": "1.2.0",
            "_view_name": "StyleView",
            "bar_color": null,
            "description_width": ""
          }
        },
        "cd48e4c9c26d488fb10bf0ffe6dd041f": {
          "model_module": "@jupyter-widgets/base",
          "model_name": "LayoutModel",
          "model_module_version": "1.2.0",
          "state": {
            "_model_module": "@jupyter-widgets/base",
            "_model_module_version": "1.2.0",
            "_model_name": "LayoutModel",
            "_view_count": null,
            "_view_module": "@jupyter-widgets/base",
            "_view_module_version": "1.2.0",
            "_view_name": "LayoutView",
            "align_content": null,
            "align_items": null,
            "align_self": null,
            "border": null,
            "bottom": null,
            "display": null,
            "flex": null,
            "flex_flow": null,
            "grid_area": null,
            "grid_auto_columns": null,
            "grid_auto_flow": null,
            "grid_auto_rows": null,
            "grid_column": null,
            "grid_gap": null,
            "grid_row": null,
            "grid_template_areas": null,
            "grid_template_columns": null,
            "grid_template_rows": null,
            "height": null,
            "justify_content": null,
            "justify_items": null,
            "left": null,
            "margin": null,
            "max_height": null,
            "max_width": null,
            "min_height": null,
            "min_width": null,
            "object_fit": null,
            "object_position": null,
            "order": null,
            "overflow": null,
            "overflow_x": null,
            "overflow_y": null,
            "padding": null,
            "right": null,
            "top": null,
            "visibility": null,
            "width": null
          }
        },
        "08442ff19d2f4a3f9b67209a561a1c7d": {
          "model_module": "@jupyter-widgets/controls",
          "model_name": "DescriptionStyleModel",
          "model_module_version": "1.5.0",
          "state": {
            "_model_module": "@jupyter-widgets/controls",
            "_model_module_version": "1.5.0",
            "_model_name": "DescriptionStyleModel",
            "_view_count": null,
            "_view_module": "@jupyter-widgets/base",
            "_view_module_version": "1.2.0",
            "_view_name": "StyleView",
            "description_width": ""
          }
        }
      }
    }
  },
  "cells": [
    {
      "cell_type": "markdown",
      "source": [
        "#### Requirements"
      ],
      "metadata": {
        "id": "EJPx7SJAeGTX"
      }
    },
    {
      "cell_type": "code",
      "source": [
        "!pip install datasets[audio] torchaudio_augmentations"
      ],
      "metadata": {
        "colab": {
          "base_uri": "https://localhost:8080/"
        },
        "id": "iZX9bSdYeML5",
        "outputId": "f9a9cc66-b78c-4fa5-8a73-66cee2ca68de"
      },
      "execution_count": null,
      "outputs": [
        {
          "output_type": "stream",
          "name": "stdout",
          "text": [
            "Looking in indexes: https://pypi.org/simple, https://us-python.pkg.dev/colab-wheels/public/simple/\n",
            "Collecting datasets[audio]\n",
            "  Downloading datasets-2.11.0-py3-none-any.whl (468 kB)\n",
            "\u001b[2K     \u001b[90m━━━━━━━━━━━━━━━━━━━━━━━━━━━━━━━━━━━━━━━\u001b[0m \u001b[32m468.7/468.7 kB\u001b[0m \u001b[31m9.5 MB/s\u001b[0m eta \u001b[36m0:00:00\u001b[0m\n",
            "\u001b[?25hCollecting torchaudio_augmentations\n",
            "  Downloading torchaudio_augmentations-0.2.4-py3-none-any.whl (12 kB)\n",
            "Collecting aiohttp\n",
            "  Downloading aiohttp-3.8.4-cp39-cp39-manylinux_2_17_x86_64.manylinux2014_x86_64.whl (1.0 MB)\n",
            "\u001b[2K     \u001b[90m━━━━━━━━━━━━━━━━━━━━━━━━━━━━━━━━━━━━━━━━\u001b[0m \u001b[32m1.0/1.0 MB\u001b[0m \u001b[31m35.9 MB/s\u001b[0m eta \u001b[36m0:00:00\u001b[0m\n",
            "\u001b[?25hRequirement already satisfied: pyyaml>=5.1 in /usr/local/lib/python3.9/dist-packages (from datasets[audio]) (6.0)\n",
            "Requirement already satisfied: packaging in /usr/local/lib/python3.9/dist-packages (from datasets[audio]) (23.1)\n",
            "Collecting huggingface-hub<1.0.0,>=0.11.0\n",
            "  Downloading huggingface_hub-0.14.0-py3-none-any.whl (224 kB)\n",
            "\u001b[2K     \u001b[90m━━━━━━━━━━━━━━━━━━━━━━━━━━━━━━━━━━━━━━\u001b[0m \u001b[32m224.2/224.2 kB\u001b[0m \u001b[31m20.1 MB/s\u001b[0m eta \u001b[36m0:00:00\u001b[0m\n",
            "\u001b[?25hRequirement already satisfied: fsspec[http]>=2021.11.1 in /usr/local/lib/python3.9/dist-packages (from datasets[audio]) (2023.4.0)\n",
            "Requirement already satisfied: requests>=2.19.0 in /usr/local/lib/python3.9/dist-packages (from datasets[audio]) (2.27.1)\n",
            "Collecting multiprocess\n",
            "  Downloading multiprocess-0.70.14-py39-none-any.whl (132 kB)\n",
            "\u001b[2K     \u001b[90m━━━━━━━━━━━━━━━━━━━━━━━━━━━━━━━━━━━━━━\u001b[0m \u001b[32m132.9/132.9 kB\u001b[0m \u001b[31m13.6 MB/s\u001b[0m eta \u001b[36m0:00:00\u001b[0m\n",
            "\u001b[?25hCollecting xxhash\n",
            "  Downloading xxhash-3.2.0-cp39-cp39-manylinux_2_17_x86_64.manylinux2014_x86_64.whl (212 kB)\n",
            "\u001b[2K     \u001b[90m━━━━━━━━━━━━━━━━━━━━━━━━━━━━━━━━━━━━━━\u001b[0m \u001b[32m212.2/212.2 kB\u001b[0m \u001b[31m20.6 MB/s\u001b[0m eta \u001b[36m0:00:00\u001b[0m\n",
            "\u001b[?25hRequirement already satisfied: numpy>=1.17 in /usr/local/lib/python3.9/dist-packages (from datasets[audio]) (1.22.4)\n",
            "Collecting dill<0.3.7,>=0.3.0\n",
            "  Downloading dill-0.3.6-py3-none-any.whl (110 kB)\n",
            "\u001b[2K     \u001b[90m━━━━━━━━━━━━━━━━━━━━━━━━━━━━━━━━━━━━━━\u001b[0m \u001b[32m110.5/110.5 kB\u001b[0m \u001b[31m11.1 MB/s\u001b[0m eta \u001b[36m0:00:00\u001b[0m\n",
            "\u001b[?25hRequirement already satisfied: tqdm>=4.62.1 in /usr/local/lib/python3.9/dist-packages (from datasets[audio]) (4.65.0)\n",
            "Collecting responses<0.19\n",
            "  Downloading responses-0.18.0-py3-none-any.whl (38 kB)\n",
            "Requirement already satisfied: pyarrow>=8.0.0 in /usr/local/lib/python3.9/dist-packages (from datasets[audio]) (9.0.0)\n",
            "Requirement already satisfied: pandas in /usr/local/lib/python3.9/dist-packages (from datasets[audio]) (1.5.3)\n",
            "Requirement already satisfied: librosa in /usr/local/lib/python3.9/dist-packages (from datasets[audio]) (0.10.0.post2)\n",
            "Requirement already satisfied: soundfile>=0.12.1 in /usr/local/lib/python3.9/dist-packages (from datasets[audio]) (0.12.1)\n",
            "Collecting torch-pitch-shift\n",
            "  Downloading torch_pitch_shift-1.2.4-py3-none-any.whl (4.9 kB)\n",
            "Requirement already satisfied: torch in /usr/local/lib/python3.9/dist-packages (from torchaudio_augmentations) (2.0.0+cu118)\n",
            "Collecting julius\n",
            "  Downloading julius-0.2.7.tar.gz (59 kB)\n",
            "\u001b[2K     \u001b[90m━━━━━━━━━━━━━━━━━━━━━━━━━━━━━━━━━━━━━━━━\u001b[0m \u001b[32m59.6/59.6 kB\u001b[0m \u001b[31m6.5 MB/s\u001b[0m eta \u001b[36m0:00:00\u001b[0m\n",
            "\u001b[?25h  Preparing metadata (setup.py) ... \u001b[?25l\u001b[?25hdone\n",
            "Collecting wavaugment\n",
            "  Downloading wavaugment-0.2-py3-none-any.whl (5.4 kB)\n",
            "Requirement already satisfied: torchaudio in /usr/local/lib/python3.9/dist-packages (from torchaudio_augmentations) (2.0.1+cu118)\n",
            "Collecting async-timeout<5.0,>=4.0.0a3\n",
            "  Downloading async_timeout-4.0.2-py3-none-any.whl (5.8 kB)\n",
            "Requirement already satisfied: attrs>=17.3.0 in /usr/local/lib/python3.9/dist-packages (from aiohttp->datasets[audio]) (23.1.0)\n",
            "Collecting aiosignal>=1.1.2\n",
            "  Downloading aiosignal-1.3.1-py3-none-any.whl (7.6 kB)\n",
            "Collecting multidict<7.0,>=4.5\n",
            "  Downloading multidict-6.0.4-cp39-cp39-manylinux_2_17_x86_64.manylinux2014_x86_64.whl (114 kB)\n",
            "\u001b[2K     \u001b[90m━━━━━━━━━━━━━━━━━━━━━━━━━━━━━━━━━━━━━━\u001b[0m \u001b[32m114.2/114.2 kB\u001b[0m \u001b[31m13.5 MB/s\u001b[0m eta \u001b[36m0:00:00\u001b[0m\n",
            "\u001b[?25hRequirement already satisfied: charset-normalizer<4.0,>=2.0 in /usr/local/lib/python3.9/dist-packages (from aiohttp->datasets[audio]) (2.0.12)\n",
            "Collecting frozenlist>=1.1.1\n",
            "  Downloading frozenlist-1.3.3-cp39-cp39-manylinux_2_5_x86_64.manylinux1_x86_64.manylinux_2_17_x86_64.manylinux2014_x86_64.whl (158 kB)\n",
            "\u001b[2K     \u001b[90m━━━━━━━━━━━━━━━━━━━━━━━━━━━━━━━━━━━━━━\u001b[0m \u001b[32m158.8/158.8 kB\u001b[0m \u001b[31m15.4 MB/s\u001b[0m eta \u001b[36m0:00:00\u001b[0m\n",
            "\u001b[?25hCollecting yarl<2.0,>=1.0\n",
            "  Downloading yarl-1.9.1-cp39-cp39-manylinux_2_17_x86_64.manylinux2014_x86_64.whl (269 kB)\n",
            "\u001b[2K     \u001b[90m━━━━━━━━━━━━━━━━━━━━━━━━━━━━━━━━━━━━━━\u001b[0m \u001b[32m269.3/269.3 kB\u001b[0m \u001b[31m28.0 MB/s\u001b[0m eta \u001b[36m0:00:00\u001b[0m\n",
            "\u001b[?25hRequirement already satisfied: filelock in /usr/local/lib/python3.9/dist-packages (from huggingface-hub<1.0.0,>=0.11.0->datasets[audio]) (3.11.0)\n",
            "Requirement already satisfied: typing-extensions>=3.7.4.3 in /usr/local/lib/python3.9/dist-packages (from huggingface-hub<1.0.0,>=0.11.0->datasets[audio]) (4.5.0)\n",
            "Requirement already satisfied: urllib3<1.27,>=1.21.1 in /usr/local/lib/python3.9/dist-packages (from requests>=2.19.0->datasets[audio]) (1.26.15)\n",
            "Requirement already satisfied: certifi>=2017.4.17 in /usr/local/lib/python3.9/dist-packages (from requests>=2.19.0->datasets[audio]) (2022.12.7)\n",
            "Requirement already satisfied: idna<4,>=2.5 in /usr/local/lib/python3.9/dist-packages (from requests>=2.19.0->datasets[audio]) (3.4)\n",
            "Requirement already satisfied: cffi>=1.0 in /usr/local/lib/python3.9/dist-packages (from soundfile>=0.12.1->datasets[audio]) (1.15.1)\n",
            "Requirement already satisfied: sympy in /usr/local/lib/python3.9/dist-packages (from torch->torchaudio_augmentations) (1.11.1)\n",
            "Requirement already satisfied: triton==2.0.0 in /usr/local/lib/python3.9/dist-packages (from torch->torchaudio_augmentations) (2.0.0)\n",
            "Requirement already satisfied: networkx in /usr/local/lib/python3.9/dist-packages (from torch->torchaudio_augmentations) (3.1)\n",
            "Requirement already satisfied: jinja2 in /usr/local/lib/python3.9/dist-packages (from torch->torchaudio_augmentations) (3.1.2)\n",
            "Requirement already satisfied: cmake in /usr/local/lib/python3.9/dist-packages (from triton==2.0.0->torch->torchaudio_augmentations) (3.25.2)\n",
            "Requirement already satisfied: lit in /usr/local/lib/python3.9/dist-packages (from triton==2.0.0->torch->torchaudio_augmentations) (16.0.1)\n",
            "Requirement already satisfied: joblib>=0.14 in /usr/local/lib/python3.9/dist-packages (from librosa->datasets[audio]) (1.2.0)\n",
            "Requirement already satisfied: pooch<1.7,>=1.0 in /usr/local/lib/python3.9/dist-packages (from librosa->datasets[audio]) (1.6.0)\n",
            "Requirement already satisfied: scipy>=1.2.0 in /usr/local/lib/python3.9/dist-packages (from librosa->datasets[audio]) (1.10.1)\n",
            "Requirement already satisfied: decorator>=4.3.0 in /usr/local/lib/python3.9/dist-packages (from librosa->datasets[audio]) (4.4.2)\n",
            "Requirement already satisfied: lazy-loader>=0.1 in /usr/local/lib/python3.9/dist-packages (from librosa->datasets[audio]) (0.2)\n",
            "Requirement already satisfied: scikit-learn>=0.20.0 in /usr/local/lib/python3.9/dist-packages (from librosa->datasets[audio]) (1.2.2)\n",
            "Requirement already satisfied: numba>=0.51.0 in /usr/local/lib/python3.9/dist-packages (from librosa->datasets[audio]) (0.56.4)\n",
            "Requirement already satisfied: audioread>=2.1.9 in /usr/local/lib/python3.9/dist-packages (from librosa->datasets[audio]) (3.0.0)\n",
            "Requirement already satisfied: msgpack>=1.0 in /usr/local/lib/python3.9/dist-packages (from librosa->datasets[audio]) (1.0.5)\n",
            "Requirement already satisfied: soxr>=0.3.2 in /usr/local/lib/python3.9/dist-packages (from librosa->datasets[audio]) (0.3.5)\n",
            "Requirement already satisfied: python-dateutil>=2.8.1 in /usr/local/lib/python3.9/dist-packages (from pandas->datasets[audio]) (2.8.2)\n",
            "Requirement already satisfied: pytz>=2020.1 in /usr/local/lib/python3.9/dist-packages (from pandas->datasets[audio]) (2022.7.1)\n",
            "Collecting primePy>=1.3\n",
            "  Downloading primePy-1.3-py3-none-any.whl (4.0 kB)\n",
            "Requirement already satisfied: pycparser in /usr/local/lib/python3.9/dist-packages (from cffi>=1.0->soundfile>=0.12.1->datasets[audio]) (2.21)\n",
            "Requirement already satisfied: setuptools in /usr/local/lib/python3.9/dist-packages (from numba>=0.51.0->librosa->datasets[audio]) (67.7.1)\n",
            "Requirement already satisfied: llvmlite<0.40,>=0.39.0dev0 in /usr/local/lib/python3.9/dist-packages (from numba>=0.51.0->librosa->datasets[audio]) (0.39.1)\n",
            "Requirement already satisfied: appdirs>=1.3.0 in /usr/local/lib/python3.9/dist-packages (from pooch<1.7,>=1.0->librosa->datasets[audio]) (1.4.4)\n",
            "Requirement already satisfied: six>=1.5 in /usr/local/lib/python3.9/dist-packages (from python-dateutil>=2.8.1->pandas->datasets[audio]) (1.16.0)\n",
            "Requirement already satisfied: threadpoolctl>=2.0.0 in /usr/local/lib/python3.9/dist-packages (from scikit-learn>=0.20.0->librosa->datasets[audio]) (3.1.0)\n",
            "Requirement already satisfied: MarkupSafe>=2.0 in /usr/local/lib/python3.9/dist-packages (from jinja2->torch->torchaudio_augmentations) (2.1.2)\n",
            "Requirement already satisfied: mpmath>=0.19 in /usr/local/lib/python3.9/dist-packages (from sympy->torch->torchaudio_augmentations) (1.3.0)\n",
            "Building wheels for collected packages: julius\n",
            "  Building wheel for julius (setup.py) ... \u001b[?25l\u001b[?25hdone\n",
            "  Created wheel for julius: filename=julius-0.2.7-py3-none-any.whl size=21895 sha256=86a7ec068983d8a42694f4673d8dd6bef68763d8d04fbd67e02115add983cef7\n",
            "  Stored in directory: /root/.cache/pip/wheels/53/0a/a7/fc08f97438f4969d86afa7904336c2eb7eb422101359f3ad11\n",
            "Successfully built julius\n",
            "Installing collected packages: primePy, xxhash, multidict, frozenlist, dill, async-timeout, yarl, responses, multiprocess, huggingface-hub, aiosignal, aiohttp, datasets, wavaugment, torch-pitch-shift, julius, torchaudio_augmentations\n",
            "Successfully installed aiohttp-3.8.4 aiosignal-1.3.1 async-timeout-4.0.2 datasets-2.11.0 dill-0.3.6 frozenlist-1.3.3 huggingface-hub-0.14.0 julius-0.2.7 multidict-6.0.4 multiprocess-0.70.14 primePy-1.3 responses-0.18.0 torch-pitch-shift-1.2.4 torchaudio_augmentations-0.2.4 wavaugment-0.2 xxhash-3.2.0 yarl-1.9.1\n"
          ]
        }
      ]
    },
    {
      "cell_type": "markdown",
      "source": [
        "## Dataset"
      ],
      "metadata": {
        "id": "lssxL_lads8V"
      }
    },
    {
      "cell_type": "code",
      "source": [
        "import torchaudio\n",
        "from datasets import load_dataset\n",
        "from torch.utils.data import Dataset\n",
        "\n",
        "\n",
        "class GTZAN(Dataset):\n",
        "\n",
        "    def __init__(self, split=\"train\"):\n",
        "        self.dataset = load_dataset(\"marsyas/gtzan\", split=split)\n",
        "        self.labels = ['blues', 'classical', 'country', 'disco', 'hiphop',\n",
        "                       'jazz', 'metal', 'pop', 'reggae', 'rock']\n",
        "\n",
        "        self.label2idx = {label: idx for idx, label in enumerate(self.labels)}\n",
        "        self.n_classes = len(self.labels)\n",
        "\n",
        "    def __getitem__(self, idx):\n",
        "        file_path = self.dataset[idx]['file']\n",
        "        audio, sr = torchaudio.load(file_path)\n",
        "        label = self.label2idx[self.labels[self.dataset[idx]['genre']]]\n",
        "\n",
        "        return audio, label\n",
        "\n",
        "    def __len__(self):\n",
        "        return len(self.dataset)"
      ],
      "metadata": {
        "id": "cP2mulhQdx8Z"
      },
      "execution_count": null,
      "outputs": []
    },
    {
      "cell_type": "code",
      "source": [
        "\"\"\"Wrapper for Torch Dataset class to enable contrastive training\n",
        "\"\"\"\n",
        "import torch\n",
        "from torch import Tensor\n",
        "from torch.utils.data import Dataset\n",
        "from torchaudio_augmentations import Compose\n",
        "from typing import Tuple, List\n",
        "\n",
        "\n",
        "class ContrastiveDataset(Dataset):\n",
        "    def __init__(self, dataset: Dataset, input_shape: List[int], transform: Compose):\n",
        "        self.dataset = dataset\n",
        "        self.transform = transform\n",
        "        self.input_shape = input_shape\n",
        "        self.ignore_idx = []\n",
        "\n",
        "    def __getitem__(self, idx) -> Tuple[Tensor, Tensor]:\n",
        "        if idx in self.ignore_idx:\n",
        "            return self[idx + 1]\n",
        "\n",
        "        audio, label = self.dataset[idx]\n",
        "\n",
        "        if audio.shape[1] < self.input_shape[1]:\n",
        "            self.ignore_idx.append(idx)\n",
        "            return self[idx + 1]\n",
        "\n",
        "        if self.transform:\n",
        "            audio = self.transform(audio)\n",
        "        return audio, label\n",
        "\n",
        "    def __len__(self) -> int:\n",
        "        return len(self.dataset)\n",
        "\n",
        "    def concat_clip(self, n: int, audio_length: float) -> Tensor:\n",
        "        audio, _ = self.dataset[n]\n",
        "        batch = torch.split(audio, audio_length, dim=1)\n",
        "        batch = torch.cat(batch[:-1])\n",
        "        batch = batch.unsqueeze(dim=1)\n",
        "\n",
        "        if self.transform:\n",
        "            batch = self.transform(batch)\n",
        "\n",
        "        return batch"
      ],
      "metadata": {
        "id": "y82-4niSeHF1"
      },
      "execution_count": null,
      "outputs": []
    },
    {
      "cell_type": "code",
      "source": [
        "import os\n",
        "from torchaudio_augmentations import(ComposeMany, RandomResizedCrop)\n",
        "\n",
        "def get_dataset(dataset):\n",
        "    train_transform = [RandomResizedCrop(n_samples=59049)]\n",
        "    num_augmented_samples = 1\n",
        "    if dataset == \"gtzan\":\n",
        "        d = GTZAN()\n",
        "        contrastive_dataset = ContrastiveDataset(\n",
        "        d,\n",
        "        input_shape=(1, 59049),\n",
        "        transform=ComposeMany(train_transform, num_augmented_samples)\n",
        "    )\n",
        "    else:\n",
        "        raise NotImplementedError(\"Dataset not implemented\")\n",
        "    return contrastive_dataset"
      ],
      "metadata": {
        "id": "5xSXbegkdsQy"
      },
      "execution_count": null,
      "outputs": []
    },
    {
      "cell_type": "markdown",
      "source": [
        "#### Dataset tests"
      ],
      "metadata": {
        "id": "VqWhBdabefFA"
      }
    },
    {
      "cell_type": "code",
      "source": [
        "import unittest\n",
        "import torch\n",
        "\n",
        "class TestGTZAN(unittest.TestCase):\n",
        "    def test_dataset(self):\n",
        "        dataset = GTZAN()\n",
        "        sample_idx = 0\n",
        "        sample = dataset.__getitem__(sample_idx)\n",
        "\n",
        "        # Audio waveform\n",
        "        self.assertIsInstance(sample[0], torch.Tensor)\n",
        "\n",
        "        # Label\n",
        "        self.assertIsInstance(sample[1], int)\n",
        "\n",
        "        # Audio waveform has at least 1 sample\n",
        "        self.assertGreaterEqual(sample[0].shape[0], 1)\n",
        "\n",
        "        # Label is non-negative\n",
        "        self.assertGreaterEqual(sample[1], 0)\n",
        "        \n",
        "        # Label is less than the number of classes in the dataset\n",
        "        self.assertLess(sample[1], dataset.num_classes)"
      ],
      "metadata": {
        "id": "uCuV74qsel6o"
      },
      "execution_count": null,
      "outputs": []
    },
    {
      "cell_type": "code",
      "source": [
        "gtzan_test = TestGTZAN()\n",
        "gtzan_test.test_dataset"
      ],
      "metadata": {
        "id": "LGOZWAHpgx2W",
        "colab": {
          "base_uri": "https://localhost:8080/"
        },
        "outputId": "5829757e-ee79-441a-ae33-ec38b6cb10ae"
      },
      "execution_count": null,
      "outputs": [
        {
          "output_type": "execute_result",
          "data": {
            "text/plain": [
              "<bound method TestGTZAN.test_dataset of <__main__.TestGTZAN testMethod=runTest>>"
            ]
          },
          "metadata": {},
          "execution_count": 6
        }
      ]
    },
    {
      "cell_type": "markdown",
      "source": [
        "### Dataloader"
      ],
      "metadata": {
        "id": "5AF1eOS8jKwt"
      }
    },
    {
      "cell_type": "code",
      "source": [
        "from torch.utils.data import DataLoader\n",
        "dataset = get_dataset(\"gtzan\")\n",
        "\n",
        "dataloader = DataLoader(\n",
        "    dataset,\n",
        "    batch_size=48,\n",
        "    num_workers=0,\n",
        "    drop_last=True,\n",
        "    shuffle=False,\n",
        ")"
      ],
      "metadata": {
        "colab": {
          "base_uri": "https://localhost:8080/",
          "height": 200,
          "referenced_widgets": [
            "0dafa9832aaf42fd85ce8bf3156d554b",
            "0f4f003f86704426a80e74d76e0057ec",
            "532dd18d18df419bba6b876e900865ac",
            "79bd6b6d9ee44efe92c6b26d31907f3d",
            "75790a566f6e49be90b83205b28439f4",
            "3e3c70d7275841088b06531d44c7e4ca",
            "1f1eda1f2f6d4d36a33905f9fb6ba295",
            "9836e020178a4689b15cfcdb0d9b8a3c",
            "2f49125bdefc438ea09133bf00fd4416",
            "9355c63927584eefbf437124089bc37e",
            "4d023e5ad94c4fcf8d7907c35ff6ad9b",
            "1717f1fb256f4142a392063bd63ee246",
            "174c5a88bcde42fabcbc06592d391ccb",
            "bb6ec0a30e104e45813e49e5629fd2ed",
            "9e3cadb88b8541069e9a73bc6f9f2b62",
            "340d126fe5fa4f4ca10634936b51c82c",
            "cfdb10e9663d4405b4f1588f004af854",
            "ca6e00adb22a411eb8d782081ac7e9f5",
            "88b55feb94c943a6b8e81ba9495c38c1",
            "0ad7f91edb804250b807cef8aa990974",
            "2534a28c7f334dacb668eacb20145852",
            "42395c81f8d144ad98a0e9e140d98029",
            "8ab997243ea545cf99902c3f9fb59084",
            "8053d13d6e2e43378dba7b25524ce6fc",
            "0c824f9e120e4e738174ea41db7481e5",
            "da225ad5df1744bb8584b3bc6e58cc7b",
            "80c92eaffd4a49f48cd6437126e687dd",
            "c3f470e855504595aa9549702bb3bf63",
            "06db903762994631bc68f444c39b145d",
            "82e083e112ed4e939ed927ac11f92282",
            "141ee1d7d8174c33929662157b5354e7",
            "15c5ed4d312c4f75aa17cc6af91e8d6d",
            "c9a0091f94274902a7580fbd9f33f0dd",
            "1238a72a3cde40f8b99c9131218cb62a",
            "3d79edc8e6ff4d2884591f980b6ab22d",
            "e51189ae1163462d904f3657c1a8fffc",
            "9ffcae4b74db4037a4b8c4996acf5c55",
            "376af8ccaf1f4a77abd456b1f5389024",
            "e85f5efded06424c8917d3690d9e59b5",
            "75b0b55b347e43fe9aa16bf72229bc75",
            "1a4f28a60159412ea3baa84a104f5167",
            "1ab836cd111d4107b2eab449b264d51e",
            "cd48e4c9c26d488fb10bf0ffe6dd041f",
            "08442ff19d2f4a3f9b67209a561a1c7d"
          ]
        },
        "id": "uAvHLQFmmNaz",
        "outputId": "f0750af2-13d5-4a91-c686-55d068cc8a43"
      },
      "execution_count": null,
      "outputs": [
        {
          "output_type": "display_data",
          "data": {
            "text/plain": [
              "Downloading builder script:   0%|          | 0.00/3.38k [00:00<?, ?B/s]"
            ],
            "application/vnd.jupyter.widget-view+json": {
              "version_major": 2,
              "version_minor": 0,
              "model_id": "0dafa9832aaf42fd85ce8bf3156d554b"
            }
          },
          "metadata": {}
        },
        {
          "output_type": "display_data",
          "data": {
            "text/plain": [
              "Downloading readme:   0%|          | 0.00/4.42k [00:00<?, ?B/s]"
            ],
            "application/vnd.jupyter.widget-view+json": {
              "version_major": 2,
              "version_minor": 0,
              "model_id": "1717f1fb256f4142a392063bd63ee246"
            }
          },
          "metadata": {}
        },
        {
          "output_type": "stream",
          "name": "stdout",
          "text": [
            "Downloading and preparing dataset gtzan/default to /root/.cache/huggingface/datasets/marsyas___gtzan/default/0.0.0/8bd0e23c2d9b2be30d36bc6834319772dff22a3bd28527996612386cef003910...\n"
          ]
        },
        {
          "output_type": "display_data",
          "data": {
            "text/plain": [
              "Downloading data:   0%|          | 0.00/1.23G [00:00<?, ?B/s]"
            ],
            "application/vnd.jupyter.widget-view+json": {
              "version_major": 2,
              "version_minor": 0,
              "model_id": "8ab997243ea545cf99902c3f9fb59084"
            }
          },
          "metadata": {}
        },
        {
          "output_type": "display_data",
          "data": {
            "text/plain": [
              "Generating train split: 0 examples [00:00, ? examples/s]"
            ],
            "application/vnd.jupyter.widget-view+json": {
              "version_major": 2,
              "version_minor": 0,
              "model_id": "1238a72a3cde40f8b99c9131218cb62a"
            }
          },
          "metadata": {}
        },
        {
          "output_type": "stream",
          "name": "stdout",
          "text": [
            "Dataset gtzan downloaded and prepared to /root/.cache/huggingface/datasets/marsyas___gtzan/default/0.0.0/8bd0e23c2d9b2be30d36bc6834319772dff22a3bd28527996612386cef003910. Subsequent calls will reuse this data.\n"
          ]
        }
      ]
    },
    {
      "cell_type": "markdown",
      "source": [
        "#### Dataloader tests"
      ],
      "metadata": {
        "id": "5WzQ1qZR4rm4"
      }
    },
    {
      "cell_type": "code",
      "source": [
        "class TestDataLoader(unittest.TestCase):\n",
        "    \n",
        "    def test_batch_size(self):\n",
        "        # set up\n",
        "        dataset = get_dataset(\"gtzan\")\n",
        "        input_shape = (1, 59049)\n",
        "        dataloader = DataLoader(dataset, batch_size=48, num_workers=0, drop_last=True, shuffle=False)\n",
        "        \n",
        "        # test\n",
        "        for batch_idx, (data, target) in enumerate(dataloader):\n",
        "            batch_size = data.shape[0]\n",
        "            self.assertEqual(batch_size, 48, f\"Batch {batch_idx} - Expected batch size: 48, Actual batch size: {batch_size}\")"
      ],
      "metadata": {
        "id": "arwwKyefnqnP"
      },
      "execution_count": null,
      "outputs": []
    },
    {
      "cell_type": "code",
      "source": [
        "# dataloader_test = TestDataLoader()\n",
        "# dataloader_test.test_batch_size()"
      ],
      "metadata": {
        "id": "k_r8QjRYnw4z"
      },
      "execution_count": null,
      "outputs": []
    },
    {
      "cell_type": "markdown",
      "source": [
        "## Model"
      ],
      "metadata": {
        "id": "1YsJOL4adff-"
      }
    },
    {
      "cell_type": "code",
      "source": [
        "import torch.nn as nn\n",
        "import numpy as np\n",
        "\n",
        "\n",
        "class Model(nn.Module):\n",
        "    def __init__(self):\n",
        "        super(Model, self).__init__()\n",
        "\n",
        "    def initialize(self, m):\n",
        "        if isinstance(m, (nn.Conv1d)):\n",
        "            # nn.init.xavier_uniform_(m.weight)\n",
        "            # if m.bias is not None:\n",
        "            #     nn.init.xavier_uniform_(m.bias)\n",
        "\n",
        "            nn.init.kaiming_uniform_(m.weight, mode=\"fan_in\", nonlinearity=\"relu\")\n",
        "\n",
        "\n",
        "class Identity(nn.Module):\n",
        "    def __init__(self):\n",
        "        super(Identity, self).__init__()\n",
        "\n",
        "    def forward(self, x):\n",
        "        return x"
      ],
      "metadata": {
        "id": "XmbEqSbGsYbr"
      },
      "execution_count": null,
      "outputs": []
    },
    {
      "cell_type": "code",
      "source": [
        "class SampleCNN(Model):\n",
        "    def __init__(self, strides):\n",
        "        super(SampleCNN, self).__init__()\n",
        "\n",
        "        self.strides = strides\n",
        "        self.sequential = [\n",
        "            nn.Sequential(\n",
        "                nn.Conv1d(1, 128, kernel_size=3, stride=3, padding=0),\n",
        "                nn.BatchNorm1d(128),\n",
        "                nn.ReLU(),\n",
        "            )\n",
        "        ]\n",
        "\n",
        "        self.hidden = [\n",
        "            [128, 128],\n",
        "            [128, 128],\n",
        "            [128, 256],\n",
        "            [256, 256],\n",
        "            [256, 256],\n",
        "            [256, 256],\n",
        "            [256, 256],\n",
        "            [256, 256],\n",
        "            [256, 512],\n",
        "        ]\n",
        "\n",
        "        assert len(self.hidden) == len(\n",
        "            self.strides\n",
        "        ), \"Number of hidden layers and strides are not equal\"\n",
        "        for stride, (h_in, h_out) in zip(self.strides, self.hidden):\n",
        "            self.sequential.append(\n",
        "                nn.Sequential(\n",
        "                    nn.Conv1d(h_in, h_out, kernel_size=stride, stride=1, padding=1),\n",
        "                    nn.BatchNorm1d(h_out),\n",
        "                    nn.ReLU(),\n",
        "                    nn.MaxPool1d(stride, stride=stride),\n",
        "                )\n",
        "            )\n",
        "\n",
        "        # 1 x 512\n",
        "        self.sequential.append(\n",
        "            nn.Sequential(\n",
        "                nn.Conv1d(512, 512, kernel_size=3, stride=1, padding=1),\n",
        "                nn.BatchNorm1d(512),\n",
        "                nn.ReLU(),\n",
        "            )\n",
        "        )\n",
        "\n",
        "        self.sequential = nn.Sequential(*self.sequential)\n",
        "\n",
        "    def forward(self, x):\n",
        "        x = x[:, 0, :]\n",
        "        out = self.sequential(x)\n",
        "        return out"
      ],
      "metadata": {
        "id": "gh5yRFGbsVy5"
      },
      "execution_count": null,
      "outputs": []
    },
    {
      "cell_type": "code",
      "source": [
        "from collections import OrderedDict\n",
        "\n",
        "\n",
        "def load_encoder_checkpoint(checkpoint_path: str) -> OrderedDict:\n",
        "    state_dict = torch.load(checkpoint_path, map_location=torch.device(\"cpu\"))\n",
        "    new_state_dict = OrderedDict()\n",
        "    for k, v in state_dict.items():\n",
        "        if \"encoder.\" in k:\n",
        "            new_state_dict[k.replace(\"encoder.\", \"\")] = v\n",
        "\n",
        "    return new_state_dict"
      ],
      "metadata": {
        "id": "RlRlo4FEqiAd"
      },
      "execution_count": null,
      "outputs": []
    },
    {
      "cell_type": "code",
      "source": [
        "import pickle\n",
        "strides = [3, 3, 3, 3, 3, 3, 3, 3, 3]\n",
        "model = SampleCNN(strides)\n",
        "checkpoint_path = \"clmr_checkpoint_10000.pt\"\n",
        "model.load_state_dict(load_encoder_checkpoint(checkpoint_path))\n",
        "with open('model.pkl', 'wb') as f:\n",
        "  pickle.dump(model, f)"
      ],
      "metadata": {
        "id": "jL0-4YPqaBHp"
      },
      "execution_count": null,
      "outputs": []
    },
    {
      "cell_type": "code",
      "source": [
        "model.eval()  # put the model in evaluation mode\n",
        "\n",
        "all_representations = []\n",
        "with torch.no_grad():\n",
        "    for data, target in dataloader:\n",
        "        # pass the data through the model to get representations\n",
        "        representations = model(data)\n",
        "        all_representations.append(representations)\n",
        "\n",
        "all_representations = torch.cat(all_representations)\n",
        "with open('representations.pkl', 'wb') as f:\n",
        "  pickle.dump(all_representations, f)"
      ],
      "metadata": {
        "id": "o2t3iQEgwIoe"
      },
      "execution_count": null,
      "outputs": []
    },
    {
      "cell_type": "code",
      "source": [
        "all_representations.shape"
      ],
      "metadata": {
        "colab": {
          "base_uri": "https://localhost:8080/"
        },
        "id": "VZ-hW0wS7-n_",
        "outputId": "5a46a8be-62f2-4f8b-f3ea-8d3a6f52d14d"
      },
      "execution_count": null,
      "outputs": [
        {
          "output_type": "execute_result",
          "data": {
            "text/plain": [
              "torch.Size([960, 512, 1])"
            ]
          },
          "metadata": {},
          "execution_count": 19
        }
      ]
    },
    {
      "cell_type": "code",
      "source": [
        "import numpy as np\n",
        "from sklearn.decomposition import PCA\n",
        "import matplotlib.pyplot as plt\n",
        "\n",
        "# get the labels for each sample in the GTZAN dataset\n",
        "labels = [dataset[i][1] for i in range(len(dataset) - 39)]\n",
        "label_names = ['blues', 'classical', 'country', 'disco', 'hiphop', 'jazz', 'metal', 'pop', 'reggae', 'rock']\n",
        "\n",
        "# convert tensor to numpy array\n",
        "representations_array = all_representations.numpy()\n",
        "\n",
        "# reshape the array to 2D\n",
        "batch_size, num_features, input_channels = representations_array.shape\n",
        "representations_array = representations_array.reshape(batch_size, num_features * input_channels)\n",
        "\n",
        "# perform PCA to reduce the dimensionality of the representations to 2\n",
        "pca = PCA(n_components=2)\n",
        "pca_features = pca.fit_transform(representations_array)\n",
        "\n",
        "# create a scatter plot of the reduced representations with colors based on the labels\n",
        "fig, ax = plt.subplots()\n",
        "scatter = ax.scatter(pca_features[:, 0], pca_features[:, 1], c=labels)\n",
        "handles, _ = scatter.legend_elements()\n",
        "ax.legend(handles, label_names)\n",
        "\n",
        "plt.show()"
      ],
      "metadata": {
        "colab": {
          "base_uri": "https://localhost:8080/",
          "height": 430
        },
        "id": "VJc00v-Q6M6l",
        "outputId": "d71efbab-9a60-4205-c983-2ba3de5d42b8"
      },
      "execution_count": 26,
      "outputs": [
        {
          "output_type": "display_data",
          "data": {
            "text/plain": [
              "<Figure size 640x480 with 1 Axes>"
            ],
            "image/png": "[encoded data removed]"
          },
          "metadata": {}
        }
      ]
    },
    {
      "cell_type": "code",
      "source": [
        "print(pca.explained_variance_ratio_)"
      ],
      "metadata": {
        "id": "RooeYviF6O39",
        "colab": {
          "base_uri": "https://localhost:8080/"
        },
        "outputId": "10452048-0a5d-4356-b72b-232fa8f989e0"
      },
      "execution_count": 25,
      "outputs": [
        {
          "output_type": "stream",
          "name": "stdout",
          "text": [
            "[0.23833434 0.07923234]\n"
          ]
        }
      ]
    },
    {
      "cell_type": "code",
      "source": [
        "import numpy as np\n",
        "from sklearn.decomposition import PCA\n",
        "import plotly.graph_objs as go\n",
        "import plotly.io as pio\n",
        "\n",
        "# get the labels for each sample in the GTZAN dataset\n",
        "labels = [dataset[i][1] for i in range(len(dataset) - 39)]\n",
        "label_names = ['blues', 'classical', 'country', 'disco', 'hiphop', 'jazz', 'metal', 'pop', 'reggae', 'rock']\n",
        "\n",
        "# convert tensor to numpy array\n",
        "representations_array = all_representations.numpy()\n",
        "\n",
        "# reshape the array to 2D\n",
        "batch_size, num_features, input_channels = representations_array.shape\n",
        "representations_array = representations_array.reshape(batch_size, num_features * input_channels)\n",
        "\n",
        "# perform PCA to reduce the dimensionality of the representations to 3\n",
        "pca = PCA(n_components=3)\n",
        "pca_features = pca.fit_transform(representations_array)\n",
        "\n",
        "# create a 3D scatter plot\n",
        "trace = go.Scatter3d(\n",
        "    x=pca_features[:, 0],\n",
        "    y=pca_features[:, 1],\n",
        "    z=pca_features[:, 2],\n",
        "    mode='markers',\n",
        "    marker=dict(\n",
        "        size=3,\n",
        "        color=labels,\n",
        "        colorscale='Viridis',\n",
        "        opacity=0.8\n",
        "    )\n",
        ")\n",
        "\n",
        "layout = go.Layout(\n",
        "    margin=dict(l=0, r=0, b=0, t=0),\n",
        "    scene=dict(\n",
        "        xaxis=dict(title='PC1', showgrid=False, showbackground=False, showline=False, showticklabels=False),\n",
        "        yaxis=dict(title='PC2', showgrid=False, showbackground=False, showline=False, showticklabels=False),\n",
        "        zaxis=dict(title='PC3', showgrid=False, showbackground=False, showline=False, showticklabels=False)\n",
        "    )\n",
        ")\n",
        "\n",
        "fig = go.Figure(data=[trace], layout=layout)\n",
        "pio.show(fig)"
      ],
      "metadata": {
        "colab": {
          "base_uri": "https://localhost:8080/",
          "height": 542
        },
        "id": "RONuJ1jiEbmT",
        "outputId": "ffb23f21-aec1-4a74-db33-2714865eaf99"
      },
      "execution_count": 41,
      "outputs": [
        {
          "output_type": "display_data",
          "data": {
            "text/html": [
              "<html>\n",
              "<head><meta charset=\"utf-8\" /></head>\n",
              "<body>\n",
              "    <div>            <script src=\"https://cdnjs.cloudflare.com/ajax/libs/mathjax/2.7.5/MathJax.js?config=TeX-AMS-MML_SVG\"></script><script type=\"text/javascript\">if (window.MathJax && window.MathJax.Hub && window.MathJax.Hub.Config) {window.MathJax.Hub.Config({SVG: {font: \"STIX-Web\"}});}</script>                <script type=\"text/javascript\">window.PlotlyConfig = {MathJaxConfig: 'local'};</script>\n",
              "        <script src=\"https://cdn.plot.ly/plotly-2.18.2.min.js\"></script>                <div id=\"713db199-900d-41a9-8995-9d6d16483a67\" class=\"plotly-graph-div\" style=\"height:525px; width:100%;\"></div>            <script type=\"text/javascript\">                                    window.PLOTLYENV=window.PLOTLYENV || {};                                    if (document.getElementById(\"713db199-900d-41a9-8995-9d6d16483a67\")) {                    Plotly.newPlot(                        \"713db199-900d-41a9-8995-9d6d16483a67\",                        [{\"marker\":{\"color\":[0,0,0,0,0,0,0,0,0,0,0,0,0,0,0,0,0,0,0,0,0,0,0,0,0,0,0,0,0,0,0,0,0,0,0,0,0,0,0,0,0,0,0,0,0,0,0,0,0,0,0,0,0,0,0,0,0,0,0,0,0,0,0,0,0,0,0,0,0,0,0,0,0,0,0,0,0,0,0,0,0,0,0,0,0,0,0,0,0,0,0,0,0,0,0,0,0,0,0,0,1,1,1,1,1,1,1,1,1,1,1,1,1,1,1,1,1,1,1,1,1,1,1,1,1,1,1,1,1,1,1,1,1,1,1,1,1,1,1,1,1,1,1,1,1,1,1,1,1,1,1,1,1,1,1,1,1,1,1,1,1,1,1,1,1,1,1,1,1,1,1,1,1,1,1,1,1,1,1,1,1,1,1,1,1,1,1,1,1,1,1,1,1,1,1,1,1,1,1,1,2,2,2,2,2,2,2,2,2,2,2,2,2,2,2,2,2,2,2,2,2,2,2,2,2,2,2,2,2,2,2,2,2,2,2,2,2,2,2,2,2,2,2,2,2,2,2,2,2,2,2,2,2,2,2,2,2,2,2,2,2,2,2,2,2,2,2,2,2,2,2,2,2,2,2,2,2,2,2,2,2,2,2,2,2,2,2,2,2,2,2,2,2,2,2,2,2,2,2,2,3,3,3,3,3,3,3,3,3,3,3,3,3,3,3,3,3,3,3,3,3,3,3,3,3,3,3,3,3,3,3,3,3,3,3,3,3,3,3,3,3,3,3,3,3,3,3,3,3,3,3,3,3,3,3,3,3,3,3,3,3,3,3,3,3,3,3,3,3,3,3,3,3,3,3,3,3,3,3,3,3,3,3,3,3,3,3,3,3,3,3,3,3,3,3,3,3,3,3,3,4,4,4,4,4,4,4,4,4,4,4,4,4,4,4,4,4,4,4,4,4,4,4,4,4,4,4,4,4,4,4,4,4,4,4,4,4,4,4,4,4,4,4,4,4,4,4,4,4,4,4,4,4,4,4,4,4,4,4,4,4,4,4,4,4,4,4,4,4,4,4,4,4,4,4,4,4,4,4,4,4,4,4,4,4,4,4,4,4,4,4,4,4,4,4,4,4,4,4,4,5,5,5,5,5,5,5,5,5,5,5,5,5,5,5,5,5,5,5,5,5,5,5,5,5,5,5,5,5,5,5,5,5,5,5,5,5,5,5,5,5,5,5,5,5,5,5,5,5,5,5,5,5,5,5,5,5,5,5,5,5,5,5,5,5,5,5,5,5,5,5,5,5,5,5,5,5,5,5,5,5,5,5,5,5,5,5,5,5,5,5,5,5,5,5,5,5,5,5,6,6,6,6,6,6,6,6,6,6,6,6,6,6,6,6,6,6,6,6,6,6,6,6,6,6,6,6,6,6,6,6,6,6,6,6,6,6,6,6,6,6,6,6,6,6,6,6,6,6,6,6,6,6,6,6,6,6,6,6,6,6,6,6,6,6,6,6,6,6,6,6,6,6,6,6,6,6,6,6,6,6,6,6,6,6,6,6,6,6,6,6,6,6,6,6,6,6,6,6,7,7,7,7,7,7,7,7,7,7,7,7,7,7,7,7,7,7,7,7,7,7,7,7,7,7,7,7,7,7,7,7,7,7,7,7,7,7,7,7,7,7,7,7,7,7,7,7,7,7,7,7,7,7,7,7,7,7,7,7,7,7,7,7,7,7,7,7,7,7,7,7,7,7,7,7,7,7,7,7,7,7,7,7,7,7,7,7,7,7,7,7,7,7,7,7,7,7,7,7,8,8,8,8,8,8,8,8,8,8,8,8,8,8,8,8,8,8,8,8,8,8,8,8,8,8,8,8,8,8,8,8,8,8,8,8,8,8,8,8,8,8,8,8,8,8,8,8,8,8,8,8,8,8,8,8,8,8,8,8,8,8,8,8,8,8,8,8,8,8,8,8,8,8,8,8,8,8,8,8,8,8,8,8,8,8,8,8,8,8,8,8,8,8,8,8,8,8,8,8,9,9,9,9,9,9,9,9,9,9,9,9,9,9,9,9,9,9,9,9,9,9,9,9,9,9,9,9,9,9,9,9,9,9,9,9,9,9,9,9,9,9,9,9,9,9,9,9,9,9,9,9,9,9,9,9,9,9,9,9,9],\"colorscale\":[[0.0,\"#440154\"],[0.1111111111111111,\"#482878\"],[0.2222222222222222,\"#3e4989\"],[0.3333333333333333,\"#31688e\"],[0.4444444444444444,\"#26828e\"],[0.5555555555555556,\"#1f9e89\"],[0.6666666666666666,\"#35b779\"],[0.7777777777777778,\"#6ece58\"],[0.8888888888888888,\"#b5de2b\"],[1.0,\"#fde725\"]],\"opacity\":0.8,\"size\":3},\"mode\":\"markers\",\"x\":[-5.436358451843262,-8.861328125,-6.568248271942139,-10.300454139709473,-9.041959762573242,-7.871975421905518,-8.761723518371582,-6.929870128631592,-5.548920631408691,-9.457843780517578,-7.809593677520752,-8.801228523254395,-8.86811637878418,-7.094101428985596,-9.739070892333984,-9.98153305053711,-9.383846282958984,-8.294276237487793,-7.422605991363525,-8.08750057220459,-8.532537460327148,-10.928909301757812,-8.630258560180664,-9.429849624633789,-10.169304847717285,-9.843403816223145,-8.269645690917969,-9.671188354492188,-6.917515754699707,-9.974347114562988,-9.373845100402832,-8.859825134277344,-9.22337818145752,-9.080166816711426,-8.201203346252441,-8.250985145568848,-8.831278800964355,-9.478446006774902,-9.31197738647461,-8.58407974243164,4.02754020690918,3.677516222000122,2.3650598526000977,2.926802396774292,3.266814708709717,5.5881667137146,7.405699253082275,0.2994212508201599,1.2087311744689941,-2.7293076515197754,5.214128017425537,0.18888062238693237,-3.4882619380950928,-1.937960147857666,2.3859920501708984,-0.19167301058769226,-1.080913782119751,9.207357406616211,1.0511975288391113,8.370919227600098,4.493439197540283,-5.371548652648926,-6.088405609130859,-5.108592987060547,0.9744216203689575,-6.503085136413574,-5.208359241485596,-3.20271635055542,-4.90752649307251,-9.488512992858887,-4.035017967224121,-4.780326843261719,-4.600058555603027,-3.3270485401153564,-2.760227918624878,13.590180397033691,-3.298323631286621,3.018747091293335,3.131457805633545,3.0943362712860107,-0.7942947149276733,4.025510787963867,1.489395260810852,10.157743453979492,1.293475866317749,-9.167047500610352,-7.256027698516846,-6.6129608154296875,-9.351798057556152,-5.76771879196167,-7.1050639152526855,-6.946944236755371,-10.479162216186523,-7.727944374084473,-7.458635330200195,-6.308752059936523,-11.998970985412598,-2.5394046306610107,10.004892349243164,-6.204184532165527,-7.80518913269043,-9.66812515258789,-8.385197639465332,-10.85049057006836,-9.728713035583496,-10.501099586486816,-9.965564727783203,-11.323310852050781,-8.450112342834473,-11.399421691894531,-8.340265274047852,-10.492557525634766,-10.052658081054688,-9.983345031738281,-8.583857536315918,-9.508208274841309,-10.397467613220215,-9.333648681640625,-9.709158897399902,-10.896127700805664,-9.467888832092285,-9.175708770751953,-9.817171096801758,-11.042728424072266,-9.956799507141113,-9.168545722961426,-8.85681438446045,-10.709799766540527,-10.890948295593262,-10.363760948181152,-8.354599952697754,-10.289032936096191,-11.768835067749023,-11.427733421325684,-9.448212623596191,-10.83650016784668,-10.471254348754883,-9.511282920837402,-6.865481376647949,-11.264456748962402,-10.21831226348877,-10.266539573669434,-9.58438491821289,-8.58004379272461,-9.179396629333496,-10.872933387756348,-9.472555160522461,-10.20344352722168,-10.135008811950684,-10.950706481933594,-10.844809532165527,-10.29520320892334,-10.034749031066895,-8.604131698608398,-9.628218650817871,-11.8983154296875,-10.258020401000977,-9.218555450439453,-11.130315780639648,-8.635387420654297,-9.7510986328125,-10.575352668762207,-10.764019012451172,-11.182798385620117,-8.75903034210205,-6.628622055053711,-8.076924324035645,-9.48038387298584,-8.335536003112793,-10.160871505737305,-8.87509536743164,-9.372015953063965,-8.06938648223877,-8.179404258728027,-11.056944847106934,-9.457025527954102,-9.414229393005371,-9.951663970947266,-9.965478897094727,-10.740689277648926,-10.661432266235352,-11.357370376586914,-10.043389320373535,-8.95300006866455,-9.34825611114502,-11.09499454498291,-11.376195907592773,-9.495299339294434,-9.72763442993164,-7.510128021240234,-9.335474967956543,-9.27531909942627,-10.88053035736084,-10.743104934692383,-9.595399856567383,-10.21181869506836,-9.40767765045166,-8.408308982849121,-8.51301383972168,-9.152480125427246,-1.9605028629302979,2.664177894592285,-7.60299015045166,-4.965723037719727,2.3500778675079346,10.134406089782715,4.059473514556885,-2.5072011947631836,-2.2992396354675293,2.2564499378204346,-9.873939514160156,-7.046354293823242,-5.773837089538574,-3.7267746925354004,8.331079483032227,-8.20625114440918,-7.900403022766113,-8.912134170532227,-2.69425630569458,-9.991362571716309,-3.8605406284332275,-11.54646110534668,-3.456961154937744,-8.430376052856445,-4.019437313079834,-4.774255752563477,-9.499212265014648,-5.8215789794921875,-9.493176460266113,-9.515713691711426,-10.27101993560791,-5.695519924163818,-9.288065910339355,3.5252065658569336,2.3093619346618652,3.3327083587646484,-10.038501739501953,-8.100919723510742,4.566486358642578,5.471397876739502,4.090792655944824,-1.951473593711853,3.990069627761841,11.887279510498047,-3.285428285598755,-0.9807522892951965,-6.493567943572998,-8.760442733764648,-5.964604377746582,-7.7971014976501465,2.8267982006073,-10.15883731842041,-9.860942840576172,8.233216285705566,-5.452613353729248,4.171929836273193,-7.054075241088867,-7.770576477050781,2.7191824913024902,-5.051756381988525,-3.337778329849243,-5.549106121063232,6.6648125648498535,0.2265707552433014,-9.345215797424316,-10.185730934143066,2.965369939804077,-9.838822364807129,-7.808645248413086,-7.6557111740112305,3.6106042861938477,-9.194061279296875,-1.0730444192886353,-3.866730213165283,-10.682148933410645,-2.7518882751464844,-7.2687506675720215,-8.327106475830078,-9.184410095214844,-7.621288776397705,1.7388627529144287,12.443680763244629,5.844470024108887,-7.075340747833252,2.943690299987793,-7.674603462219238,5.016759872436523,-9.213849067687988,-0.07340766489505768,-9.45313835144043,9.553174018859863,-8.653797149658203,4.323508262634277,-10.049601554870605,-0.4026245176792145,-3.3154914379119873,-2.1218338012695312,-9.042295455932617,-7.245192527770996,0.4223780035972595,14.797531127929688,8.902355194091797,5.708008289337158,10.701056480407715,18.141334533691406,11.334673881530762,14.966182708740234,25.443843841552734,16.06599998474121,15.172447204589844,9.607635498046875,-0.4397110641002655,5.005709648132324,6.377419948577881,8.364462852478027,-0.45682358741760254,16.991378784179688,6.88369607925415,10.565089225769043,4.640000820159912,2.4335222244262695,4.8330769538879395,17.08318328857422,5.781362056732178,10.489700317382812,3.8532521724700928,5.335742950439453,9.785201072692871,12.95664119720459,8.160552978515625,9.510770797729492,11.953807830810547,2.58708119392395,4.304131507873535,0.3697119951248169,11.47374439239502,21.766294479370117,16.38821792602539,7.527043342590332,5.478806495666504,10.30880355834961,-3.821633815765381,-1.9811519384384155,16.284568786621094,11.107345581054688,6.571809768676758,9.91128158569336,-11.779487609863281,7.3922343254089355,5.718168258666992,2.185133457183838,3.6071784496307373,12.172306060791016,5.6071624755859375,0.14918026328086853,4.622560024261475,-4.033377647399902,6.2682576179504395,6.7730278968811035,11.844968795776367,4.2724480628967285,14.674352645874023,2.813720703125,14.966038703918457,6.532543659210205,13.579723358154297,10.20262336730957,-1.7220348119735718,0.46023112535476685,-4.188920497894287,2.829080581665039,1.0900108814239502,-9.92165756225586,2.3904340267181396,5.423121929168701,10.503792762756348,5.7092390060424805,-0.41731998324394226,12.448162078857422,5.461080551147461,4.0086750984191895,5.109863758087158,10.860986709594727,2.9850728511810303,7.7765092849731445,11.1484956741333,4.938304424285889,2.457584857940674,12.058242797851562,5.920145034790039,15.2249116897583,5.256625175476074,9.183001518249512,9.692730903625488,2.9068565368652344,12.107593536376953,0.33306196331977844,15.640538215637207,8.554754257202148,10.90783977508545,6.014851093292236,2.0583889484405518,-1.6240981817245483,9.906904220581055,8.334372520446777,1.2206323146820068,8.153738021850586,6.677398204803467,2.2010035514831543,10.931336402893066,1.8242000341415405,-2.254940986633301,-5.045769691467285,-2.5018327236175537,7.516931056976318,0.8301372528076172,8.090919494628906,6.230278015136719,0.5221298336982727,-3.1908206939697266,7.405289173126221,1.4043644666671753,12.900346755981445,2.9694983959198,6.206403732299805,12.252703666687012,11.827784538269043,1.396559715270996,0.18552875518798828,5.678704738616943,10.57483196258545,11.814144134521484,8.296173095703125,6.5850300788879395,6.259932041168213,4.667996406555176,3.29056715965271,12.919103622436523,5.65688943862915,5.158610820770264,4.609020709991455,-5.027334690093994,0.9904833436012268,5.1959028244018555,-9.787190437316895,3.21703839302063,9.771944999694824,13.400500297546387,9.95158863067627,8.487051963806152,0.9762539267539978,3.534968852996826,9.288275718688965,7.513345241546631,5.36201810836792,-3.195080041885376,5.56281852722168,-0.1387440711259842,1.4759832620620728,2.909440279006958,1.9899524450302124,-0.1551656723022461,11.407953262329102,7.288971424102783,21.607011795043945,5.263532638549805,8.27298355102539,16.77510643005371,9.307304382324219,6.990109443664551,2.937579393386841,7.929336071014404,10.188488006591797,-0.2953958213329315,9.494733810424805,7.26337194442749,4.433966159820557,5.593994140625,8.231130599975586,9.554136276245117,-1.4978259801864624,-0.0101776709780097,4.019159317016602,-1.3611913919448853,6.255665302276611,-1.733595848083496,6.22702169418335,11.518293380737305,8.701217651367188,8.574029922485352,1.3343093395233154,6.844510555267334,6.893887996673584,5.518487453460693,-6.448041915893555,6.754583835601807,-1.8896487951278687,0.17963775992393494,9.935314178466797,10.547402381896973,-9.903521537780762,-10.488926887512207,-10.875162124633789,-11.583243370056152,-10.278007507324219,-9.730929374694824,-8.153250694274902,-10.048933982849121,-7.744231700897217,-10.026467323303223,-8.006977081298828,-8.26919174194336,-9.481061935424805,-8.256672859191895,-10.61953353881836,-8.437897682189941,-10.491877555847168,-8.327667236328125,-5.964502334594727,-9.002554893493652,-9.502326965332031,-8.228017807006836,-10.263906478881836,-9.248019218444824,-8.159860610961914,-10.025808334350586,-10.611833572387695,-8.347880363464355,-8.443329811096191,-5.5647735595703125,-10.237285614013672,-9.389374732971191,-8.49063777923584,-11.930509567260742,-8.482246398925781,-10.756326675415039,-10.25430679321289,-8.516819953918457,-10.011117935180664,-10.184164047241211,-10.581376075744629,-8.58126449584961,-9.12596607208252,-9.913976669311523,-9.752237319946289,-9.866273880004883,-10.147377967834473,-7.7895426750183105,-11.10200023651123,-10.050466537475586,-0.3505710959434509,-11.106431007385254,-3.8217010498046875,-7.072481632232666,-11.170425415039062,-4.351800918579102,-11.42773151397705,-10.844027519226074,-4.101507663726807,-10.879965782165527,-7.395500183105469,-7.074191093444824,-1.9998995065689087,-8.73453426361084,-10.250126838684082,-8.1814546585083,-11.446742057800293,-9.187539100646973,-6.597356796264648,-10.172292709350586,-10.787140846252441,-9.603246688842773,-7.159922122955322,-6.319850444793701,-8.415624618530273,-10.502934455871582,-2.5327413082122803,-7.9332356452941895,0.44614481925964355,-0.36886298656463623,-3.0797696113586426,-1.534839391708374,-4.821620941162109,-2.194679021835327,-5.5842671394348145,-6.9913225173950195,-10.441102027893066,-7.225440979003906,-11.54384994506836,-8.099095344543457,-10.973191261291504,-10.544626235961914,-7.836818218231201,-10.542393684387207,-8.359508514404297,-8.332488059997559,-11.312307357788086,-8.403727531433105,-10.161649703979492,5.861301422119141,9.242180824279785,-1.8021082878112793,15.647143363952637,5.528645038604736,6.733565330505371,2.7184383869171143,2.2448737621307373,7.220887660980225,3.3005340099334717,8.607812881469727,2.2721056938171387,11.102607727050781,4.130025863647461,0.4966691732406616,6.3714823722839355,21.460464477539062,11.89566421508789,8.245368003845215,10.09301471710205,8.085222244262695,9.954261779785156,4.240639686584473,11.907583236694336,9.549527168273926,7.314303874969482,8.033349990844727,6.046774864196777,4.529576301574707,1.462980031967163,0.09356292337179184,12.234058380126953,6.231938362121582,3.9762744903564453,-6.3022356033325195,6.12908411026001,7.858541488647461,0.470753937959671,1.5107762813568115,-1.2330244779586792,11.777297019958496,-1.7019481658935547,9.086102485656738,1.8298956155776978,4.2172722816467285,1.4450390338897705,10.932559967041016,13.521142959594727,4.997539043426514,9.0879487991333,6.416659355163574,10.105236053466797,12.016538619995117,10.982342720031738,9.53691291809082,10.476168632507324,6.2874979972839355,13.187596321105957,9.902888298034668,-4.896884441375732,1.468060851097107,10.694847106933594,-0.8007721304893494,5.2650556564331055,0.8920159339904785,9.642160415649414,-2.894063711166382,13.376119613647461,8.266172409057617,5.911763668060303,1.9583333730697632,4.951053619384766,3.0226895809173584,8.594107627868652,0.3225208520889282,11.346467971801758,11.585174560546875,4.853214740753174,16.24205207824707,13.534529685974121,5.132674694061279,8.7030611038208,14.09712028503418,13.015626907348633,6.476513862609863,2.6030385494232178,7.667439937591553,9.430896759033203,13.478588104248047,4.658462047576904,-2.3680837154388428,-2.6004109382629395,1.5036981105804443,6.762015342712402,-1.2143473625183105,13.221896171569824,10.543968200683594,14.766192436218262,6.500901222229004,9.526267051696777,11.50489330291748,18.710222244262695,5.461421012878418,-3.700357437133789,-1.870873212814331,-9.429491996765137,-5.643621444702148,-9.569138526916504,-1.3456306457519531,14.155256271362305,-2.016780138015747,-10.940841674804688,0.9450453519821167,-0.11074623465538025,0.3425653576850891,10.899361610412598,21.021316528320312,-2.8089725971221924,5.990187168121338,6.922303199768066,11.18387222290039,10.3932523727417,15.412703514099121,11.699457168579102,13.435044288635254,2.9955012798309326,3.519353151321411,7.46273946762085,8.17829418182373,10.128336906433105,3.2621166706085205,5.622169017791748,5.16386079788208,2.8356099128723145,7.317217826843262,8.598966598510742,8.506754875183105,11.780097961425781,10.719555854797363,-0.7025768756866455,-10.3693265914917,-8.87634563446045,12.786295890808105,12.202788352966309,16.62516975402832,5.602813243865967,7.9599175453186035,2.2871816158294678,17.73804473876953,-1.385090708732605,5.806421756744385,3.8951878547668457,14.5657320022583,-9.137700080871582,15.594165802001953,19.66709327697754,8.362342834472656,24.052242279052734,3.4715240001678467,14.554794311523438,14.791950225830078,17.552608489990234,1.465806245803833,-1.8675079345703125,6.893597602844238,-2.5229756832122803,1.3123196363449097,15.778165817260742,8.198928833007812,8.917869567871094,6.353002548217773,16.748638153076172,2.2039761543273926,7.358016014099121,10.096805572509766,12.716349601745605,12.587810516357422,20.11067771911621,22.59379005432129,-5.645363807678223,11.066215515136719,-4.754082679748535,14.850299835205078,5.19330358505249,18.153854370117188,-1.1644753217697144,11.591082572937012,8.057450294494629,10.663555145263672,16.14516830444336,5.351493835449219,18.894689559936523,19.580686569213867,17.922710418701172,-2.3467023372650146,11.427456855773926,1.3523095846176147,6.02047872543335,11.146512985229492,-3.6662635803222656,-1.58658766746521,-5.650073051452637,3.593099594116211,-4.94202184677124,4.376824378967285,-5.078118324279785,-7.507155418395996,-3.1923460960388184,-3.299814224243164,-3.6473186016082764,-8.093949317932129,-0.030678708106279373,3.289144277572632,-3.8332526683807373,-2.8147003650665283,1.2935270071029663,4.2357635498046875,-6.065688610076904,-3.930845022201538,1.952928066253662,1.2862833738327026,-5.760303497314453,0.045141130685806274,-4.720635414123535,-1.2233911752700806,-7.151564121246338,2.5761351585388184,3.474106788635254,5.445809841156006,5.80701208114624,5.395035266876221,0.754249095916748,-6.682586193084717,6.836110591888428,6.118326663970947,6.776128768920898,1.3322107791900635,3.740750312805176,-5.37418794631958,5.716946601867676,-10.431206703186035,-4.118183612823486,0.023549390956759453,-9.135963439941406,6.736337184906006,5.912482738494873,-3.451967239379883,-4.452284812927246,3.081669569015503,-5.2999114990234375,7.276636123657227,15.38895034790039,18.42291259765625,-5.595300674438477,-1.9286941289901733,6.833127021789551,-2.991001605987549,0.36481189727783203,-2.762218713760376,1.1887553930282593,-9.75801944732666,6.204794406890869,1.361066222190857,-0.07373390346765518,0.08733435720205307,9.80574893951416,1.5058468580245972,-8.184161186218262,-1.1304539442062378,1.3835352659225464,1.853329062461853,2.846493721008301,1.1097794771194458,-0.49529746174812317,-3.892225503921509,-1.108555793762207,4.362932205200195,1.0747591257095337,0.44944682717323303,1.7381470203399658,8.597233772277832,9.776541709899902,13.388641357421875,-9.507661819458008,-6.536465167999268,-7.7812066078186035,23.367265701293945,8.077028274536133,7.207103729248047,-9.474227905273438,-3.0093863010406494,-3.822667360305786,-4.133052825927734,1.9886844158172607,-6.780788421630859,-2.768300771713257,-5.9881720542907715,-9.829723358154297,-4.487009525299072,-4.844515800476074,-1.540597915649414,-1.8067915439605713,11.067254066467285,4.639425277709961,-5.391449451446533,5.107088565826416,-7.481919288635254,-4.084943771362305,-3.3190648555755615,-8.026652336120605,3.6057851314544678,-3.3586015701293945,-2.6188673973083496,3.163710117340088,-0.2839065194129944,-4.111752033233643,5.74549674987793,0.3872641921043396,0.10019136220216751,0.7581692934036255,-5.571436882019043,-6.194497108459473,-6.667601585388184,-4.1323089599609375,-3.2048914432525635,-0.27163076400756836,-0.6554889678955078,-8.26550006866455,4.038975238800049,1.0511833429336548,-7.102399826049805,8.930810928344727,-0.374673455953598,-9.125007629394531,-1.2927250862121582,-3.8944923877716064,-0.9570410847663879,-1.9089263677597046,5.674684047698975,-5.894124984741211,-3.303170919418335,-0.9663150310516357,3.098598003387451,-2.5520143508911133,-7.0186848640441895,-9.316770553588867,-5.73275089263916,-0.6909659504890442,-6.681342601776123,-2.8338024616241455,7.611111640930176,7.901943206787109,-5.255479335784912,13.728041648864746,-3.8252570629119873,-7.06500244140625,12.043408393859863,4.832159519195557,-10.121779441833496,-0.09508015215396881,3.1393182277679443],\"y\":[2.3261847496032715,-1.0521454811096191,-0.9724991917610168,-0.7256724834442139,0.6686413288116455,0.14709126949310303,-0.21662689745426178,-0.4506416320800781,2.7332866191864014,-0.2908642292022705,4.044414043426514,-0.39161279797554016,-1.1622986793518066,-1.4154462814331055,-0.2526172697544098,-0.6217851638793945,-0.45704013109207153,-0.5898532271385193,0.5437774062156677,3.8315205574035645,1.831350564956665,-0.8424310684204102,0.909748911857605,-0.9468940496444702,-0.8561487793922424,1.1095471382141113,1.6304816007614136,-0.6962632536888123,-2.378589153289795,0.9446200132369995,0.1777404546737671,-0.6195073127746582,-0.26638588309288025,0.3414169251918793,-0.42641568183898926,2.6360578536987305,1.139739751815796,0.2938603162765503,0.7927995324134827,1.680076003074646,5.035823345184326,3.2761635780334473,0.9967717528343201,2.5422818660736084,-0.28586551547050476,8.438369750976562,10.615124702453613,0.4764506220817566,4.4774556159973145,5.440056324005127,0.5609397888183594,-3.274808168411255,-0.9027850031852722,-4.322463512420654,-0.5889464616775513,-0.5396811962127686,0.5849464535713196,-2.8319363594055176,-1.4648293256759644,-3.453571319580078,-0.4920062720775604,0.05531899258494377,-0.2702534794807434,1.5156217813491821,-2.6871469020843506,-0.3321492075920105,0.7533178329467773,-0.376177579164505,-0.03922353312373161,0.7605370283126831,-2.9133870601654053,-2.907740354537964,-3.955148696899414,0.5012006163597107,0.10478655993938446,5.083737373352051,1.4690570831298828,0.7213066220283508,0.9984700679779053,1.8233824968338013,5.003128528594971,-1.9756543636322021,3.896181106567383,7.4008917808532715,-1.5024226903915405,1.533202886581421,1.7867034673690796,2.1973867416381836,-0.17554838955402374,-1.838534951210022,-0.5785934329032898,3.5730197429656982,2.7329812049865723,-0.3821767270565033,-1.6813740730285645,1.6672327518463135,1.6741684675216675,1.250190019607544,10.467877388000488,-0.49916568398475647,-2.1491222381591797,0.6112478375434875,-2.1302318572998047,0.4942367970943451,-0.4903324842453003,2.3240928649902344,0.4704206883907318,0.7351652979850769,0.5134661793708801,0.41192370653152466,-0.7971461415290833,0.42118069529533386,0.49165740609169006,1.7421538829803467,0.7781127095222473,-0.6537579298019409,-0.45209047198295593,0.34755924344062805,0.5847734212875366,-0.4053979814052582,1.2930994033813477,1.1111632585525513,0.1954060047864914,-0.484334796667099,-0.023575790226459503,2.8923370838165283,-0.061100687831640244,0.7736008763313293,0.33085891604423523,1.4476326704025269,0.45702165365219116,1.6206543445587158,0.7815528512001038,-0.1634952872991562,-0.4173664152622223,-0.3332582116127014,0.5171927213668823,1.1273270845413208,0.8687801361083984,-0.6349250674247742,-0.2688538432121277,0.006044936832040548,-1.984192132949829,1.439823031425476,-0.08061160147190094,-0.1760120391845703,1.7531698942184448,0.3153751790523529,0.7295178174972534,1.1932896375656128,-0.24744075536727905,0.19207574427127838,-0.8142600059509277,-1.1292091608047485,-0.5874511003494263,1.164726972579956,0.6415342092514038,-0.3937097191810608,0.5410898923873901,3.8190245628356934,2.9088330268859863,-0.03858402371406555,-0.6996793746948242,0.7648882269859314,2.128986358642578,2.1236391067504883,1.7033406496047974,1.3235132694244385,0.7827302813529968,0.196489155292511,1.9418472051620483,1.7612392902374268,0.9583579301834106,1.8233611583709717,0.5690503716468811,0.06962576508522034,0.7197592258453369,1.3059823513031006,1.5409842729568481,-0.7805308699607849,0.6476581692695618,-0.4900144934654236,-0.16061219573020935,0.6592347621917725,0.557909369468689,-0.5789061188697815,-1.441667079925537,0.845879077911377,-1.0354684591293335,-0.9955496191978455,-0.4619782567024231,-0.11383689194917679,-0.31795328855514526,1.3232630491256714,0.1999303102493286,-0.27639302611351013,2.0846049785614014,-1.6714175939559937,-2.3728792667388916,-1.0391449928283691,-0.5642343759536743,8.729442596435547,-0.9383652210235596,-0.11645703762769699,2.980807304382324,8.692697525024414,-0.7582482695579529,-3.3642473220825195,3.691206216812134,-3.77571702003479,1.021591067314148,0.09031666070222855,0.6750085949897766,9.282477378845215,4.61367654800415,-0.5340332984924316,-2.799398899078369,0.753404438495636,2.6324880123138428,1.77685546875,-4.6188740730285645,0.3784070312976837,-1.7052271366119385,0.8697393536567688,4.3943963050842285,-1.4061063528060913,-1.7124985456466675,-1.6959670782089233,0.49199914932250977,0.7519912123680115,0.4323998689651489,-0.9456690549850464,0.08247940242290497,-0.707953929901123,4.881890296936035,-4.402711391448975,-0.15127819776535034,0.10776928812265396,0.48272740840911865,2.3605058193206787,-0.6787509322166443,2.6624927520751953,-4.035173416137695,5.813415050506592,-0.6049535870552063,-1.0809003114700317,-1.5367672443389893,-1.2322314977645874,-0.6530749201774597,0.1238693818449974,5.74751091003418,1.3839080333709717,-0.8123723864555359,3.4978156089782715,0.7034313082695007,6.4625444412231445,1.518750786781311,2.024087905883789,3.3559954166412354,1.4941648244857788,-1.0239481925964355,3.8893091678619385,5.783926963806152,2.3138794898986816,1.029698371887207,0.19400086998939514,-2.3496642112731934,0.809823751449585,1.2313902378082275,1.5278291702270508,-2.2090208530426025,-0.05918167904019356,-0.2510237991809845,-0.30539679527282715,-0.04363461211323738,-1.4723098278045654,-1.9132497310638428,-0.6810533404350281,0.5626471042633057,1.531803846359253,-4.393953323364258,0.8787068128585815,7.318084239959717,-2.243473768234253,6.0637288093566895,-0.8287482857704163,5.184562683105469,0.7460814714431763,-3.5044212341308594,-0.2621546983718872,1.5704903602600098,0.2371479570865631,2.9037089347839355,2.11932110786438,1.0528631210327148,-1.3886160850524902,3.0986433029174805,1.5169321298599243,2.9600565433502197,-1.6703497171401978,-0.9403943419456482,1.4816663265228271,-0.07662329822778702,5.783004283905029,15.036067962646484,-9.204809188842773,11.511120796203613,15.977686882019043,9.798266410827637,11.865191459655762,-9.180612564086914,-0.6119486093521118,-4.030938148498535,1.601719617843628,-6.764489650726318,5.597279071807861,13.821213722229004,13.564421653747559,12.33675479888916,1.3139344453811646,-0.3699605464935303,-6.150026321411133,11.60546588897705,-2.2366230487823486,14.496281623840332,9.432044982910156,3.5888097286224365,-7.725027561187744,11.742721557617188,-6.38120174407959,5.882054805755615,13.182212829589844,-4.774074554443359,8.603558540344238,6.977499485015869,8.605600357055664,5.331827640533447,12.192696571350098,8.068822860717773,-2.9554977416992188,4.16659688949585,-2.0024008750915527,-3.0139453411102295,16.213056564331055,16.978172302246094,13.92471694946289,10.617681503295898,0.15126846730709076,-5.531119346618652,8.18039608001709,-3.22721791267395,-4.256821155548096,12.464138984680176,-5.0989909172058105,-1.3670865297317505,9.479086875915527,3.1936330795288086,6.0307769775390625,12.174993515014648,10.809057235717773,11.658102989196777,10.766871452331543,-6.162898540496826,4.893208980560303,11.658587455749512,9.44760513305664,10.583727836608887,-5.406721591949463,-5.362948894500732,-1.7373847961425781,-3.349712610244751,-2.407902956008911,0.9247570633888245,0.047067560255527496,-3.580052614212036,8.158724784851074,10.422327041625977,3.35749888420105,13.772968292236328,8.057112693786621,-3.2070255279541016,10.702767372131348,12.016861915588379,3.3971164226531982,0.11258848756551743,6.298177242279053,11.650976181030273,-4.27004337310791,12.167019844055176,11.758759498596191,12.54634952545166,-7.037208080291748,4.330959796905518,-5.702109336853027,3.049347162246704,5.811604022979736,-7.2910990715026855,10.990890502929688,7.187047958374023,9.769981384277344,2.573354959487915,-4.429142951965332,-3.8875813484191895,-8.872373580932617,-8.29404067993164,-4.050719261169434,-8.881241798400879,5.802764415740967,-2.1992697715759277,-7.931033134460449,-3.060330390930176,-2.729123115539551,-2.9615519046783447,-7.560852527618408,4.225363731384277,-3.66495680809021,-7.522161483764648,-8.531012535095215,-3.5731863975524902,-1.6398166418075562,-1.5768303871154785,-7.275059223175049,-7.295584201812744,-4.050230503082275,-6.097158908843994,-6.436676502227783,-11.299792289733887,-4.7318949699401855,-3.1272687911987305,-2.964071035385132,1.7599574327468872,-11.392450332641602,-8.821196556091309,-8.868685722351074,-7.824254989624023,-5.525661945343018,-1.2475762367248535,-2.8579633235931396,-2.2654690742492676,-5.169134140014648,-2.9282431602478027,-3.186851978302002,-2.6981394290924072,-2.4897987842559814,0.32142528891563416,-4.530498504638672,-5.705528736114502,-9.758927345275879,-6.2490105628967285,-8.230498313903809,-4.641597747802734,-7.0103559494018555,-8.12368106842041,-4.82726526260376,-6.307348251342773,-2.8700973987579346,-8.55685043334961,-4.345433235168457,-3.4053516387939453,-5.342402458190918,-2.534982204437256,-2.71958589553833,-8.85002326965332,-7.042515754699707,-1.1289417743682861,-5.035519599914551,-4.054814338684082,-10.200366020202637,-6.54921293258667,-3.834261417388916,-6.880773544311523,-5.278326034545898,-10.827735900878906,-4.049492359161377,-7.717235565185547,-5.686784267425537,-8.461714744567871,-3.2794761657714844,-7.474482536315918,-11.321573257446289,-2.782292127609253,-5.12556266784668,-8.371207237243652,-5.003762722015381,-1.8277586698532104,-4.296105861663818,-6.916141033172607,-6.569253444671631,-1.6597537994384766,7.616967678070068,-1.1087465286254883,-8.02479362487793,-2.6127536296844482,1.1041233539581299,-2.0230469703674316,-5.86055850982666,-5.64781379699707,-2.7950305938720703,-10.539827346801758,-8.066832542419434,2.652472496032715,-0.15956154465675354,-0.049798768013715744,-0.08741864562034607,0.9492751955986023,-0.07324430346488953,0.5859963297843933,-0.7588937282562256,0.6173114776611328,0.9051506519317627,-0.4353243410587311,-0.5701364278793335,0.002811690326780081,0.1877637505531311,-0.09131834656000137,1.9732798337936401,-0.06572960317134857,-0.36465391516685486,-2.9905529022216797,-0.42605531215667725,-1.3587802648544312,0.583670973777771,3.4860830307006836,0.5860645174980164,-2.268670082092285,0.5202236771583557,1.8679702281951904,-0.21815501153469086,-0.8613759875297546,-1.8619157075881958,0.9078710079193115,-0.13394995033740997,-0.48775210976600647,-0.5608209371566772,-1.3315526247024536,0.09723208099603653,2.498882293701172,-2.190807819366455,-0.5931259393692017,-3.1662869453430176,-0.27888381481170654,-1.489061713218689,0.19616416096687317,0.3241138160228729,-1.6635862588882446,-0.8381531238555908,-0.11428127437829971,-0.5513901710510254,1.7259583473205566,0.5800126194953918,-2.0332233905792236,-0.8300119638442993,-1.9466044902801514,-0.3761240839958191,-0.3475086987018585,1.5942963361740112,0.22439789772033691,1.6380857229232788,-1.0606591701507568,-0.40267330408096313,0.5151567459106445,-1.3971030712127686,4.075466632843018,-1.7000041007995605,-1.3319847583770752,1.5295636653900146,-0.5163387656211853,0.1214306578040123,-1.7820491790771484,-0.4838607609272003,-0.567202091217041,-0.749091625213623,-0.5405394434928894,0.17239853739738464,-1.122884750366211,-0.21817563474178314,-2.2688066959381104,-1.0235573053359985,-3.540109395980835,-1.625569224357605,-1.3894011974334717,-2.740114212036133,-1.675621747970581,0.4335171580314636,-0.4728544056415558,-1.5527288913726807,-0.5800522565841675,4.374434471130371,0.29477185010910034,1.5677241086959839,1.2668484449386597,0.5521474480628967,1.3037527799606323,-0.03320494666695595,1.2260643243789673,0.9001298546791077,-0.012429089285433292,2.0267982482910156,0.8691813945770264,0.6928244829177856,2.040853500366211,0.2530331611633301,-0.1425887793302536,4.874663829803467,1.842720627784729,8.119938850402832,1.862891674041748,5.945783615112305,0.7695627212524414,4.6701507568359375,1.71029531955719,6.089818954467773,2.9937491416931152,1.5928707122802734,4.155665874481201,2.0554451942443848,0.3698163628578186,-4.163260459899902,-0.11915337294340134,-1.539407730102539,0.03610290586948395,6.547443866729736,-1.6814395189285278,2.183919668197632,4.250670909881592,-1.823528528213501,8.318775177001953,3.6615607738494873,3.7221322059631348,6.848637104034424,4.307278633117676,2.128512144088745,6.595936298370361,-1.1349983215332031,4.053918838500977,-0.7392539381980896,1.4033972024917603,-0.24148786067962646,5.20427131652832,-2.0999484062194824,2.85711407661438,10.376640319824219,-0.030173474922776222,6.164937496185303,3.4310925006866455,4.365306854248047,-2.264819622039795,-1.414633870124817,-0.06832496076822281,-0.08420686423778534,-2.907675266265869,2.9461402893066406,10.04714298248291,6.318309783935547,3.894263505935669,-1.7987509965896606,13.392683029174805,-2.1688930988311768,0.5868238806724548,-0.07918304949998856,-3.098708391189575,2.3566348552703857,9.584159851074219,-1.8114093542099,6.638673782348633,3.4126274585723877,8.08476448059082,0.8753219842910767,0.8393967151641846,3.6418323516845703,-1.406010627746582,5.067952632904053,0.03326239436864853,7.9769415855407715,2.1653754711151123,1.6769704818725586,-0.6370878219604492,-1.643155813217163,11.783931732177734,0.6714456081390381,2.0249850749969482,13.96304702758789,10.574393272399902,-2.3662352561950684,0.24270863831043243,11.719372749328613,2.794294834136963,8.722768783569336,0.2190336138010025,-0.47314417362213135,1.8349096775054932,2.9258313179016113,5.064998149871826,-1.0400668382644653,0.032579466700553894,5.544558048248291,5.166981220245361,0.2432166486978531,3.566453456878662,3.6767702102661133,-9.014561653137207,7.811103343963623,-3.3135666847229004,-1.5786678791046143,1.7991597652435303,-1.4984829425811768,4.062763214111328,0.3034135401248932,-4.3738017082214355,-3.8991284370422363,-0.19920466840267181,1.192362666130066,-2.5634968280792236,3.6241488456726074,-12.394509315490723,-10.63778305053711,-2.5164246559143066,3.729802370071411,-6.807325839996338,-10.224884033203125,-10.937460899353027,-13.575261116027832,-9.961703300476074,-1.6050337553024292,-3.681763172149658,-4.92513370513916,1.7501553297042847,-7.537632465362549,-4.096732139587402,-8.886679649353027,-10.36229133605957,-9.11976432800293,-4.947672367095947,-7.708927154541016,-11.630385398864746,-7.751179218292236,-12.594651222229004,-9.058427810668945,-0.9734807014465332,2.5747623443603516,-0.04997050389647484,-4.452791213989258,5.5704665184021,2.9321725368499756,0.6818638443946838,-2.2224252223968506,-6.063807010650635,4.9605278968811035,0.8919674158096313,-3.661134719848633,-4.724142551422119,-7.97112512588501,-0.4217543601989746,-5.370922565460205,-8.834271430969238,0.8990554213523865,-11.523406028747559,-4.980453968048096,0.5845407843589783,-10.036245346069336,-8.0369873046875,-1.781554102897644,10.162217140197754,-1.2279250621795654,-1.6912461519241333,-0.185195654630661,-6.090198993682861,0.3551650643348694,-10.363334655761719,4.121339797973633,-5.225897312164307,-0.0018442607251927257,9.493823051452637,-2.773852825164795,-7.5055928230285645,-8.242239952087402,-10.044031143188477,-12.945023536682129,-0.01948968507349491,-7.504367351531982,0.40954458713531494,8.23652172088623,8.298283576965332,-13.329205513000488,-1.9789756536483765,-1.6827447414398193,-5.405396938323975,-7.0171709060668945,-12.540884017944336,-7.152585983276367,-4.321761608123779,-11.155579566955566,2.7240047454833984,-1.8378515243530273,-11.079204559326172,-1.116539716720581,-6.931170463562012,-2.789905548095703,-3.0496981143951416,3.3351283073425293,-0.7501082420349121,-7.0981035232543945,-2.62497615814209,0.9874274134635925,-1.963835597038269,-2.070707082748413,-2.2238519191741943,-4.405087947845459,-2.3420894145965576,1.1656215190887451,5.366777420043945,6.471743583679199,2.852604866027832,-0.6818246841430664,9.525619506835938,-2.153813600540161,-1.3223233222961426,-1.3252872228622437,-4.284885406494141,8.193360328674316,-0.8083634376525879,-2.1028459072113037,2.54008412361145,-1.5223803520202637,0.06104930117726326,-3.6735846996307373,4.566830635070801,-0.7289504408836365,-0.6784025430679321,-0.6233091950416565,0.5668951869010925,-2.5518460273742676,3.6503212451934814,-2.091158390045166,4.465443134307861,1.5782129764556885,-0.8362897038459778,-3.055891275405884,-1.9222428798675537,-0.44270482659339905,-0.6259165406227112,1.3503742218017578,-0.8044947385787964,3.5101795196533203,-0.11601783335208893,-0.6631039977073669,-3.2263071537017822,-2.4054958820343018,-3.68943452835083,-8.093270301818848,3.865400791168213,-10.859981536865234,-3.086569309234619,-3.571850061416626,5.819620609283447,-3.7268266677856445,-4.93117094039917,2.705904722213745,-2.240129232406616,0.4642757177352905,-3.569626569747925,-3.9037861824035645,-4.445957660675049,-1.68010675907135,-3.6922364234924316,-2.2872416973114014,0.01943182945251465,-0.11123210936784744,-0.9544192552566528,2.8661012649536133,-3.518028736114502,-0.6970555186271667,-1.8584363460540771,0.6556490063667297,-2.88354754447937,-2.914501667022705,-1.4802550077438354,-4.25715970993042,-4.983645915985107,-10.592145919799805,-9.917208671569824,-11.51938247680664,0.9065207242965698,-2.4098546504974365,-0.8676900267601013,-2.397005081176758,-0.9295654296875,-5.721578121185303,-1.2176376581192017,-2.5531327724456787,-2.1907217502593994,-3.500722885131836,-1.9048479795455933,2.17791485786438,3.7724084854125977,-0.8992697596549988,-0.49753719568252563,7.152604103088379,-1.392558217048645,-1.215490460395813,-2.5049898624420166,-5.445771217346191,-4.361307144165039,-1.2753292322158813,-3.214479684829712,2.5528879165649414,0.15161782503128052,2.4865851402282715,-0.5646674036979675,3.5205554962158203,3.2169506549835205,1.8417490720748901,-2.4411213397979736,2.5026566982269287,-3.4352633953094482,-1.05344820022583,8.957331657409668,1.9995743036270142,1.8165472745895386,-2.009532928466797,-2.1211647987365723,-1.6763924360275269,-2.1959073543548584,-0.6734908819198608,-2.9654598236083984,-1.0369212627410889,-0.8652298450469971,2.3215699195861816,8.241951942443848,-2.6586389541625977,9.557672500610352,-2.6881473064422607,2.748159170150757,0.9010099768638611,1.7903363704681396,1.5356488227844238,7.350851058959961,1.8565248250961304,-0.049639176577329636,-1.3492051362991333,5.423341274261475,0.10168725252151489,-0.3830825984477997,1.0414701700210571,0.6282243132591248,-3.0883171558380127,-0.7731704115867615,5.190714359283447,-2.353970766067505,12.367942810058594,0.228862464427948,-3.3663861751556396,10.116423606872559,-3.6058127880096436,5.441231727600098,1.707374095916748,10.893488883972168,0.125132218003273,2.4530959129333496,1.522692322731018],\"z\":[0.9450207948684692,2.0972681045532227,-4.108009338378906,1.7401492595672607,0.8632801175117493,-1.5802195072174072,-0.36165767908096313,0.9687302112579346,1.8430925607681274,0.4344261586666107,-3.1746721267700195,2.2923812866210938,2.051656723022461,-0.6331525444984436,1.1750463247299194,0.3277260661125183,1.7258683443069458,1.6669790744781494,0.6360626220703125,1.4602464437484741,0.6508747339248657,0.5839190483093262,0.9496608376502991,0.7966031432151794,-0.03394092991948128,1.0920462608337402,-1.0651332139968872,-1.1040488481521606,-0.6775493025779724,2.628542423248291,-1.6483391523361206,1.8843547105789185,1.334904432296753,-0.030751686543226242,4.192056655883789,2.2581703662872314,-0.6980393528938293,2.297367572784424,0.6753197908401489,2.893840789794922,6.367449760437012,-0.36749014258384705,-0.2789355516433716,0.43162772059440613,-2.414703845977783,3.6631481647491455,-3.2357254028320312,-5.031436920166016,-1.6827515363693237,-0.23599444329738617,-0.7998099327087402,-1.999509572982788,-2.079728603363037,-3.1445248126983643,3.016587495803833,0.6200582385063171,-1.9972635507583618,4.163797855377197,-1.7458856105804443,-8.319244384765625,-7.404179096221924,0.9383165240287781,-0.93659508228302,2.7281439304351807,-3.4209468364715576,0.3351670205593109,-1.6617131233215332,-2.5452420711517334,-2.8397672176361084,-1.4553508758544922,-4.088586807250977,-1.1420718431472778,1.279680609703064,-2.149209976196289,0.5164076685905457,-10.586332321166992,1.8978580236434937,-3.1342198848724365,-2.940871000289917,-8.997350692749023,-6.0606889724731445,-3.1288013458251953,-1.9291629791259766,4.0893354415893555,-8.466064453125,-1.0095633268356323,-0.21267034113407135,4.1544575691223145,2.571199893951416,0.5742443799972534,-1.0686668157577515,1.2455425262451172,0.6508108377456665,1.0026026964187622,-0.02058567851781845,0.971402645111084,1.064013957977295,-2.383864641189575,-2.7330198287963867,-2.2047183513641357,1.2803219556808472,-0.1866619884967804,3.313781499862671,0.6203376054763794,0.9945069551467896,-0.09935574233531952,-0.18767791986465454,-0.5737759470939636,0.6498618125915527,-0.1286090910434723,-1.123875379562378,0.6100283861160278,0.47256287932395935,0.8072137832641602,1.50192391872406,1.229495882987976,0.5951901078224182,3.499180316925049,0.5864293575286865,0.7567757368087769,2.4800219535827637,2.704555034637451,1.3414406776428223,1.0389933586120605,0.9264072179794312,3.683176040649414,1.816497802734375,1.2527658939361572,0.8568246364593506,1.6949939727783203,0.5241903066635132,0.667479395866394,0.8375048637390137,0.7118948698043823,0.23999716341495514,1.1224513053894043,1.295395016670227,0.7293168902397156,0.25283586978912354,0.4686830937862396,0.3384334444999695,1.3640460968017578,0.9435262084007263,2.599336862564087,-0.45061126351356506,1.2996567487716675,1.1423559188842773,0.8991164565086365,1.1821997165679932,-0.9271987676620483,0.3425065875053406,1.4861382246017456,0.8246755599975586,-2.33059024810791,2.0329103469848633,0.3263355791568756,-0.611869215965271,0.8687713146209717,1.7324726581573486,-2.186810255050659,-0.5678519010543823,0.5257590413093567,1.3227286338806152,1.5066472291946411,2.038565158843994,0.5301326513290405,1.3222872018814087,0.7928746938705444,3.33439564704895,0.7777990698814392,0.8998097777366638,0.657054603099823,-0.2819342017173767,1.2736461162567139,0.004598247818648815,1.5881052017211914,2.8267250061035156,0.9160932898521423,0.47644561529159546,0.694721519947052,0.7140501141548157,1.0731315612792969,-0.12166750431060791,0.9102291464805603,-1.5450502634048462,0.10527011752128601,-0.030984830111265182,0.6049421429634094,-1.8370968103408813,1.9594709873199463,1.7750109434127808,0.9453976154327393,1.5711954832077026,1.7018187046051025,-0.07264603674411774,1.502756953239441,1.2862493991851807,0.30000460147857666,1.8289402723312378,0.5102418065071106,-0.20394618809223175,0.1578274816274643,-0.39552831649780273,-3.460566282272339,-5.109963417053223,2.5815062522888184,-7.6439313888549805,-1.69969642162323,-0.29010671377182007,0.5865229964256287,-0.6407161951065063,-1.6381412744522095,7.122315406799316,1.6034393310546875,3.813282012939453,-1.7623790502548218,-0.6921250820159912,1.711008906364441,3.54909086227417,0.6609784960746765,1.075681209564209,-0.7791692614555359,0.6207996606826782,2.1140050888061523,4.614072322845459,-2.1881158351898193,0.4120354652404785,3.187431812286377,3.6656720638275146,2.5423736572265625,-0.543982744216919,-2.709705114364624,-2.242332696914673,5.368871688842773,1.3580591678619385,-2.253873109817505,-1.0229495763778687,-2.4443840980529785,-10.990921974182129,5.371840953826904,-3.714569091796875,1.9457767009735107,-6.781914234161377,-1.6395881175994873,-3.4395153522491455,-4.487110614776611,-2.6514790058135986,-2.9595327377319336,0.43457329273223877,0.8008060455322266,-8.193771362304688,-0.27141186594963074,0.007058985065668821,6.884477138519287,-5.342705726623535,-0.3457408547401428,-1.320383071899414,-1.3419671058654785,-11.387157440185547,2.032083511352539,-1.8371974229812622,-2.9460160732269287,5.643110275268555,0.20827960968017578,-0.4708952307701111,0.18470539152622223,-10.285658836364746,1.1848344802856445,0.6035184860229492,-0.5088245868682861,-8.582303047180176,0.007913206703960896,-6.123752593994141,-6.1148905754089355,-0.45313262939453125,1.866117000579834,-1.9307926893234253,2.0946950912475586,0.3676303029060364,0.7996026873588562,-1.1662073135375977,6.83742618560791,-11.089875221252441,-1.5348124504089355,2.9545516967773438,-1.6560683250427246,-7.145097255706787,-1.9848129749298096,-5.921604633331299,-1.541091799736023,1.5381723642349243,-1.5594804286956787,-2.3520889282226562,-0.4549066126346588,-9.915956497192383,5.966820240020752,-7.774744510650635,-1.4223744869232178,-1.3107516765594482,-4.449138641357422,-9.22735595703125,-10.407459259033203,-9.0628662109375,3.833616256713867,-2.352238655090332,-2.474851369857788,1.4035271406173706,11.587920188903809,-0.30281344056129456,6.042612552642822,-1.619674801826477,4.6612982749938965,-4.784939765930176,8.244865417480469,-4.957474708557129,-1.1897320747375488,-4.242770671844482,1.1983790397644043,2.2006900310516357,-5.876743316650391,-5.392605304718018,-6.226693630218506,-3.245582342147827,-5.534308433532715,5.746024131774902,2.785740613937378,-3.432917594909668,-7.0590081214904785,-1.5352100133895874,-2.961803436279297,2.207179307937622,-3.6159636974334717,-4.751015663146973,0.04075971245765686,4.497533321380615,0.4369129240512848,6.0132155418396,6.842390537261963,-2.197751045227051,-9.998430252075195,1.2560638189315796,-3.2324814796447754,-3.900070905685425,4.881479740142822,1.7963310480117798,-0.12941157817840576,-0.7061976194381714,1.5072442293167114,-2.3898205757141113,-5.873370170593262,-9.352753639221191,-8.361435890197754,3.247370481491089,1.9296259880065918,-4.362577438354492,5.209684371948242,3.2030036449432373,-8.10500431060791,5.104670524597168,2.027330160140991,4.908304214477539,6.106643199920654,-5.328556060791016,8.609945297241211,1.0991570949554443,4.255340099334717,7.763881683349609,0.27886325120925903,-6.122901439666748,-1.4318279027938843,-8.289640426635742,-5.952334880828857,1.3920730352401733,-9.068209648132324,-8.606234550476074,6.167372703552246,4.47104024887085,-4.3039445877075195,6.086446285247803,-1.9992262125015259,4.9698967933654785,8.079833984375,-0.7810896635055542,-2.905944347381592,-4.011734962463379,4.448938369750977,-0.016078822314739227,-3.9190990924835205,2.3983349800109863,5.627407550811768,5.1229400634765625,0.5957088470458984,-8.497572898864746,-6.520551681518555,2.7808473110198975,-1.1499292850494385,-2.339175224304199,8.809430122375488,-0.39558032155036926,-0.02769651636481285,-5.528118133544922,5.889575004577637,4.110717296600342,10.119733810424805,2.8185842037200928,1.5598993301391602,2.3005852699279785,-0.05282946303486824,2.5749001502990723,0.5738658905029297,3.6271233558654785,1.6282695531845093,2.559201717376709,2.580761194229126,1.8069630861282349,2.5164740085601807,1.3407453298568726,6.627522945404053,-0.08563973754644394,1.756552815437317,-6.211888313293457,0.3552951514720917,-1.0963521003723145,3.8254358768463135,0.2701869606971741,-0.6797998547554016,3.5228159427642822,6.84186315536499,2.814007043838501,9.415976524353027,7.645859718322754,4.352758407592773,3.609144687652588,4.363718032836914,1.410186529159546,1.934894323348999,1.2385209798812866,1.2511922121047974,10.032180786132812,6.5510783195495605,-0.4997882843017578,4.056864261627197,5.593528747558594,8.792006492614746,-1.969294548034668,5.374298095703125,4.650505542755127,4.8543901443481445,5.53541898727417,1.1896109580993652,0.998845636844635,-0.23241156339645386,-1.9747521877288818,-3.8051040172576904,-6.356750965118408,0.7581560611724854,2.2115864753723145,-3.1528878211975098,6.12319278717041,4.532949924468994,5.9554877281188965,5.410808563232422,5.595746994018555,4.256114482879639,10.789306640625,3.4381766319274902,6.907966613769531,4.14944314956665,4.927523136138916,2.1045141220092773,7.702144622802734,3.8827836513519287,4.141908168792725,4.349660396575928,1.34093177318573,9.406560897827148,5.910623550415039,0.7438991069793701,6.860684871673584,0.6044791340827942,3.1769444942474365,2.6249184608459473,-1.9075918197631836,-0.6226297616958618,-5.0170369148254395,-1.6314507722854614,4.032544136047363,4.402803421020508,-8.707523345947266,5.05782413482666,-8.460429191589355,3.078671932220459,-5.7743964195251465,-2.2710812091827393,0.09007974714040756,-6.54950475692749,-1.9397028684616089,-4.312002658843994,-1.1636638641357422,1.4628279209136963,0.5975519418716431,1.041190505027771,-0.6173872351646423,0.3608655035495758,0.5286732912063599,-0.27183598279953003,2.546356439590454,2.860231399536133,-0.20032434165477753,1.4869648218154907,0.6278373003005981,-0.13899902999401093,-0.9662690758705139,-0.08827659487724304,-0.00016702130960766226,-1.3586477041244507,0.028660409152507782,-1.39151930809021,-2.1455929279327393,-0.8102098703384399,-0.31710416078567505,-1.2690963745117188,0.6360269784927368,1.3464480638504028,-0.4940619468688965,-0.035653404891490936,0.8481495380401611,0.4497279226779938,-0.35223594307899475,-2.9766647815704346,0.798589289188385,-0.1314890831708908,0.510025680065155,1.6479853391647339,0.24771426618099213,1.1080656051635742,1.736317753791809,0.15397652983665466,-0.28011077642440796,0.34516915678977966,-0.6697849631309509,1.0234531164169312,0.9989609718322754,-1.3394320011138916,0.21539613604545593,0.8357363939285278,-1.9004279375076294,-0.7290217876434326,0.23829758167266846,2.3153293132781982,-6.204158782958984,1.708351731300354,-1.6005723476409912,0.26429975032806396,0.9340596199035645,0.4563583433628082,0.8491489291191101,0.8813807368278503,2.9590208530426025,0.8791271448135376,-0.6450849771499634,-3.308568000793457,-4.544373512268066,-0.005361046176403761,0.6459646821022034,0.25198596715927124,0.5764181613922119,1.778826117515564,-1.2604780197143555,0.5270082950592041,0.7297298312187195,-2.5760762691497803,-3.1826462745666504,0.2146633118391037,-2.1394968032836914,0.38118597865104675,0.4683826267719269,0.085871621966362,-6.67096471786499,-2.0919971466064453,-5.307076930999756,-1.4131333827972412,-2.6882801055908203,5.171139240264893,-2.775747060775757,-1.0451078414916992,1.8995780944824219,3.6039059162139893,1.071461796760559,2.5696544647216797,0.6703028082847595,0.6792943477630615,-1.5162066221237183,2.352487325668335,-3.471670389175415,2.343149185180664,1.8649935722351074,-0.03357610106468201,2.3199334144592285,2.134570598602295,-8.016850471496582,-6.055552959442139,2.1573121547698975,-3.218663215637207,-7.844753265380859,-6.353946208953857,-4.221557140350342,-5.571479320526123,0.4383755028247833,-1.1119978427886963,-0.5568511486053467,-4.170745372772217,-4.402060031890869,-1.446647047996521,-1.3762677907943726,-0.5935081839561462,-9.669313430786133,0.017013486474752426,-9.311779975891113,-2.6599202156066895,-7.074106693267822,2.499169111251831,-9.585968971252441,-11.054667472839355,-1.6599937677383423,-3.3886516094207764,0.6664122939109802,-2.169468879699707,-1.6756147146224976,4.815853595733643,-0.15316295623779297,4.112049102783203,-2.4216644763946533,-0.5938757061958313,-4.027307987213135,-1.0941845178604126,-2.3054726123809814,-1.6146504878997803,-1.863312005996704,-9.068705558776855,-4.6425065994262695,0.7551369071006775,-2.658125638961792,-7.639855861663818,-3.5771234035491943,-8.388193130493164,-3.7250187397003174,-6.430746078491211,1.9090665578842163,-9.260374069213867,-7.1731157302856445,-6.128011703491211,-4.145272254943848,-4.277192115783691,1.271561622619629,-9.96999454498291,-0.9809560179710388,-8.392714500427246,1.3499983549118042,2.024374008178711,-8.823885917663574,-5.925063133239746,1.4058705568313599,0.45765042304992676,-10.66744613647461,-3.7539467811584473,1.3447624444961548,-0.9469020962715149,3.0495293140411377,-8.252288818359375,2.5482985973358154,-4.0347442626953125,-4.074397563934326,-1.1945419311523438,-12.601300239562988,-2.822284698486328,-7.639456272125244,-0.8235387206077576,-1.0299978256225586,-0.9378069043159485,-8.116382598876953,-5.8731818199157715,-6.9221415519714355,-5.541965007781982,-5.001498222351074,-4.497354507446289,1.9124265909194946,-9.045453071594238,-4.739552021026611,1.83054518699646,-0.011064520105719566,1.2991621494293213,2.7713394165039062,-3.1535797119140625,-8.4470853805542,4.494879722595215,-3.2413296699523926,-6.928064823150635,-1.7846890687942505,4.214398384094238,0.5276763439178467,5.167623043060303,3.2218263149261475,-2.895383834838867,1.0063812732696533,4.534038543701172,1.5265551805496216,2.1103835105895996,-8.548860549926758,-5.829564571380615,0.9998371601104736,-3.9730122089385986,-0.9105351567268372,-7.14578914642334,-1.9947456121444702,-8.441076278686523,-1.734302282333374,-2.619265079498291,10.501754760742188,-7.365197658538818,-0.35801494121551514,-1.4422277212142944,-0.3527885675430298,-7.346689701080322,-3.5883378982543945,-3.948873996734619,5.057774066925049,2.2872695922851562,-2.5432326793670654,7.481069564819336,7.8052849769592285,7.379326343536377,2.8045458793640137,5.822751045227051,-4.592859268188477,5.163275718688965,-2.857098340988159,10.317917823791504,2.0850095748901367,0.14891760051250458,0.0047180913388729095,10.998292922973633,8.867501258850098,-4.808494567871094,8.371115684509277,10.391966819763184,-5.291553020477295,7.9356369972229,-1.3691281080245972,4.95680046081543,-1.8961434364318848,1.200209140777588,1.152186393737793,4.864314556121826,1.2010642290115356,14.427953720092773,0.580723762512207,2.811302423477173,15.998305320739746,3.899839162826538,8.397079467773438,1.5673755407333374,-1.1450903415679932,5.215755462646484,-2.970017433166504,1.470133662223816,-4.91497278213501,4.3090596199035645,-2.10343861579895,3.0240252017974854,-8.004076957702637,-6.991599082946777,5.166398525238037,6.567354202270508,8.279121398925781,-1.0071585178375244,-8.013100624084473,1.6703494787216187,-1.9832377433776855,-5.638862609863281,-0.8101956248283386,5.941468238830566,0.4607277810573578,8.05292797088623,-0.3815879821777344,3.8507113456726074,-2.7117013931274414,2.0492053031921387,3.783362865447998,0.17502601444721222,-5.579898834228516,-5.650590896606445,9.874926567077637,-2.1419901847839355,0.220647931098938,7.35815954208374,4.854836463928223,-9.586675643920898,-0.6848315000534058,3.3011391162872314,-4.168065071105957,-0.2116226851940155,-1.0015202760696411,3.3073832988739014,-1.6490205526351929,-0.2201789766550064,-3.2770726680755615,4.190541744232178,-0.5124142169952393,-2.1271395683288574,3.748547077178955,7.203907012939453,2.668710470199585,3.1837167739868164,2.6964573860168457,-0.5056643486022949,3.25607967376709,-1.3072929382324219,-0.666124701499939,6.313281059265137,-3.436976909637451,-3.0458662509918213,3.202603340148926,0.6913794279098511,2.5230236053466797,2.880643606185913,6.442002773284912,-4.351644039154053,-4.106450080871582,-0.6553739309310913,-1.222607970237732,-3.727015495300293,7.985311031341553,9.35536003112793,3.181208610534668,6.047295093536377,-1.7332895994186401,2.7556533813476562,-2.7612671852111816,1.6693618297576904,0.8014029264450073,1.8109880685806274,-0.2984973192214966,8.3685884475708,-1.8861219882965088,5.196872711181641,0.3329203128814697,8.657055854797363,1.842345952987671,8.829689979553223,9.603867530822754,3.5858616828918457,-1.2612593173980713,-2.2930908203125,11.308954238891602,-0.3808118999004364,5.217023849487305,2.787003755569458,-4.037245750427246,-1.8821091651916504,11.049515724182129,0.34294113516807556,8.461292266845703,6.3082661628723145,9.932435989379883,-3.056152105331421,3.2199301719665527,1.4836642742156982,1.2534724473953247,8.355648040771484,2.2630527019500732,5.5709614753723145,2.3949286937713623,3.3131749629974365,0.8576302528381348,-3.0416948795318604,-4.3011250495910645,1.232328176498413,-1.125908374786377,2.3885915279388428,1.2489614486694336,0.48441821336746216,0.7552617192268372,0.6113393902778625,3.0607919692993164,9.740320205688477,4.089437961578369,-6.602814674377441,0.689245343208313,-0.4660812318325043,0.7423940300941467,-0.46366071701049805,9.007676124572754,0.6137903332710266,1.0709258317947388,4.335677623748779,-1.0390026569366455,1.5903788805007935,-0.2904609739780426,-0.14411619305610657,-3.253391742706299,-8.740876197814941,2.2835381031036377,-0.6148443818092346,-1.3944194316864014,-3.6250417232513428,1.6973055601119995,-1.9198144674301147,-3.3256146907806396,0.03628712520003319,-5.733086585998535,-4.260554790496826,3.7884840965270996,-3.8456647396087646,1.078045129776001,-2.917621374130249,-3.5787763595581055,-3.3959755897521973,-4.3658061027526855,1.2374132871627808,-0.40201255679130554,-0.5591811537742615,-2.8362247943878174,-5.214476585388184,-1.4545140266418457,-6.001570224761963,0.0015016661491245031,0.925869345664978,1.0633492469787598,-2.245805263519287,-7.161281108856201,3.4050705432891846,-4.201751232147217,0.18002451956272125,-0.532776415348053,3.437790870666504,0.42027637362480164,0.6341962218284607,-2.4362354278564453,-4.695581912994385,-8.149648666381836,-0.6661973595619202,2.728219747543335,-1.5384767055511475,-2.188276767730713,0.1618695855140686,-3.4762988090515137,1.8126505613327026,2.574868679046631,4.767062664031982,5.408100128173828,4.058384895324707,-8.792858123779297,-4.3098978996276855,3.912703275680542,0.8806346654891968,-0.052181415259838104,0.38205769658088684,-7.718878269195557,2.869361162185669],\"type\":\"scatter3d\"}],                        {\"margin\":{\"b\":0,\"l\":0,\"r\":0,\"t\":0},\"scene\":{\"xaxis\":{\"showbackground\":false,\"showgrid\":false,\"showline\":false,\"showticklabels\":false,\"title\":{\"text\":\"PC1\"}},\"yaxis\":{\"showbackground\":false,\"showgrid\":false,\"showline\":false,\"showticklabels\":false,\"title\":{\"text\":\"PC2\"}},\"zaxis\":{\"showbackground\":false,\"showgrid\":false,\"showline\":false,\"showticklabels\":false,\"title\":{\"text\":\"PC3\"}}},\"template\":{\"data\":{\"histogram2dcontour\":[{\"type\":\"histogram2dcontour\",\"colorbar\":{\"outlinewidth\":0,\"ticks\":\"\"},\"colorscale\":[[0.0,\"#0d0887\"],[0.1111111111111111,\"#46039f\"],[0.2222222222222222,\"#7201a8\"],[0.3333333333333333,\"#9c179e\"],[0.4444444444444444,\"#bd3786\"],[0.5555555555555556,\"#d8576b\"],[0.6666666666666666,\"#ed7953\"],[0.7777777777777778,\"#fb9f3a\"],[0.8888888888888888,\"#fdca26\"],[1.0,\"#f0f921\"]]}],\"choropleth\":[{\"type\":\"choropleth\",\"colorbar\":{\"outlinewidth\":0,\"ticks\":\"\"}}],\"histogram2d\":[{\"type\":\"histogram2d\",\"colorbar\":{\"outlinewidth\":0,\"ticks\":\"\"},\"colorscale\":[[0.0,\"#0d0887\"],[0.1111111111111111,\"#46039f\"],[0.2222222222222222,\"#7201a8\"],[0.3333333333333333,\"#9c179e\"],[0.4444444444444444,\"#bd3786\"],[0.5555555555555556,\"#d8576b\"],[0.6666666666666666,\"#ed7953\"],[0.7777777777777778,\"#fb9f3a\"],[0.8888888888888888,\"#fdca26\"],[1.0,\"#f0f921\"]]}],\"heatmap\":[{\"type\":\"heatmap\",\"colorbar\":{\"outlinewidth\":0,\"ticks\":\"\"},\"colorscale\":[[0.0,\"#0d0887\"],[0.1111111111111111,\"#46039f\"],[0.2222222222222222,\"#7201a8\"],[0.3333333333333333,\"#9c179e\"],[0.4444444444444444,\"#bd3786\"],[0.5555555555555556,\"#d8576b\"],[0.6666666666666666,\"#ed7953\"],[0.7777777777777778,\"#fb9f3a\"],[0.8888888888888888,\"#fdca26\"],[1.0,\"#f0f921\"]]}],\"heatmapgl\":[{\"type\":\"heatmapgl\",\"colorbar\":{\"outlinewidth\":0,\"ticks\":\"\"},\"colorscale\":[[0.0,\"#0d0887\"],[0.1111111111111111,\"#46039f\"],[0.2222222222222222,\"#7201a8\"],[0.3333333333333333,\"#9c179e\"],[0.4444444444444444,\"#bd3786\"],[0.5555555555555556,\"#d8576b\"],[0.6666666666666666,\"#ed7953\"],[0.7777777777777778,\"#fb9f3a\"],[0.8888888888888888,\"#fdca26\"],[1.0,\"#f0f921\"]]}],\"contourcarpet\":[{\"type\":\"contourcarpet\",\"colorbar\":{\"outlinewidth\":0,\"ticks\":\"\"}}],\"contour\":[{\"type\":\"contour\",\"colorbar\":{\"outlinewidth\":0,\"ticks\":\"\"},\"colorscale\":[[0.0,\"#0d0887\"],[0.1111111111111111,\"#46039f\"],[0.2222222222222222,\"#7201a8\"],[0.3333333333333333,\"#9c179e\"],[0.4444444444444444,\"#bd3786\"],[0.5555555555555556,\"#d8576b\"],[0.6666666666666666,\"#ed7953\"],[0.7777777777777778,\"#fb9f3a\"],[0.8888888888888888,\"#fdca26\"],[1.0,\"#f0f921\"]]}],\"surface\":[{\"type\":\"surface\",\"colorbar\":{\"outlinewidth\":0,\"ticks\":\"\"},\"colorscale\":[[0.0,\"#0d0887\"],[0.1111111111111111,\"#46039f\"],[0.2222222222222222,\"#7201a8\"],[0.3333333333333333,\"#9c179e\"],[0.4444444444444444,\"#bd3786\"],[0.5555555555555556,\"#d8576b\"],[0.6666666666666666,\"#ed7953\"],[0.7777777777777778,\"#fb9f3a\"],[0.8888888888888888,\"#fdca26\"],[1.0,\"#f0f921\"]]}],\"mesh3d\":[{\"type\":\"mesh3d\",\"colorbar\":{\"outlinewidth\":0,\"ticks\":\"\"}}],\"scatter\":[{\"fillpattern\":{\"fillmode\":\"overlay\",\"size\":10,\"solidity\":0.2},\"type\":\"scatter\"}],\"parcoords\":[{\"type\":\"parcoords\",\"line\":{\"colorbar\":{\"outlinewidth\":0,\"ticks\":\"\"}}}],\"scatterpolargl\":[{\"type\":\"scatterpolargl\",\"marker\":{\"colorbar\":{\"outlinewidth\":0,\"ticks\":\"\"}}}],\"bar\":[{\"error_x\":{\"color\":\"#2a3f5f\"},\"error_y\":{\"color\":\"#2a3f5f\"},\"marker\":{\"line\":{\"color\":\"#E5ECF6\",\"width\":0.5},\"pattern\":{\"fillmode\":\"overlay\",\"size\":10,\"solidity\":0.2}},\"type\":\"bar\"}],\"scattergeo\":[{\"type\":\"scattergeo\",\"marker\":{\"colorbar\":{\"outlinewidth\":0,\"ticks\":\"\"}}}],\"scatterpolar\":[{\"type\":\"scatterpolar\",\"marker\":{\"colorbar\":{\"outlinewidth\":0,\"ticks\":\"\"}}}],\"histogram\":[{\"marker\":{\"pattern\":{\"fillmode\":\"overlay\",\"size\":10,\"solidity\":0.2}},\"type\":\"histogram\"}],\"scattergl\":[{\"type\":\"scattergl\",\"marker\":{\"colorbar\":{\"outlinewidth\":0,\"ticks\":\"\"}}}],\"scatter3d\":[{\"type\":\"scatter3d\",\"line\":{\"colorbar\":{\"outlinewidth\":0,\"ticks\":\"\"}},\"marker\":{\"colorbar\":{\"outlinewidth\":0,\"ticks\":\"\"}}}],\"scattermapbox\":[{\"type\":\"scattermapbox\",\"marker\":{\"colorbar\":{\"outlinewidth\":0,\"ticks\":\"\"}}}],\"scatterternary\":[{\"type\":\"scatterternary\",\"marker\":{\"colorbar\":{\"outlinewidth\":0,\"ticks\":\"\"}}}],\"scattercarpet\":[{\"type\":\"scattercarpet\",\"marker\":{\"colorbar\":{\"outlinewidth\":0,\"ticks\":\"\"}}}],\"carpet\":[{\"aaxis\":{\"endlinecolor\":\"#2a3f5f\",\"gridcolor\":\"white\",\"linecolor\":\"white\",\"minorgridcolor\":\"white\",\"startlinecolor\":\"#2a3f5f\"},\"baxis\":{\"endlinecolor\":\"#2a3f5f\",\"gridcolor\":\"white\",\"linecolor\":\"white\",\"minorgridcolor\":\"white\",\"startlinecolor\":\"#2a3f5f\"},\"type\":\"carpet\"}],\"table\":[{\"cells\":{\"fill\":{\"color\":\"#EBF0F8\"},\"line\":{\"color\":\"white\"}},\"header\":{\"fill\":{\"color\":\"#C8D4E3\"},\"line\":{\"color\":\"white\"}},\"type\":\"table\"}],\"barpolar\":[{\"marker\":{\"line\":{\"color\":\"#E5ECF6\",\"width\":0.5},\"pattern\":{\"fillmode\":\"overlay\",\"size\":10,\"solidity\":0.2}},\"type\":\"barpolar\"}],\"pie\":[{\"automargin\":true,\"type\":\"pie\"}]},\"layout\":{\"autotypenumbers\":\"strict\",\"colorway\":[\"#636efa\",\"#EF553B\",\"#00cc96\",\"#ab63fa\",\"#FFA15A\",\"#19d3f3\",\"#FF6692\",\"#B6E880\",\"#FF97FF\",\"#FECB52\"],\"font\":{\"color\":\"#2a3f5f\"},\"hovermode\":\"closest\",\"hoverlabel\":{\"align\":\"left\"},\"paper_bgcolor\":\"white\",\"plot_bgcolor\":\"#E5ECF6\",\"polar\":{\"bgcolor\":\"#E5ECF6\",\"angularaxis\":{\"gridcolor\":\"white\",\"linecolor\":\"white\",\"ticks\":\"\"},\"radialaxis\":{\"gridcolor\":\"white\",\"linecolor\":\"white\",\"ticks\":\"\"}},\"ternary\":{\"bgcolor\":\"#E5ECF6\",\"aaxis\":{\"gridcolor\":\"white\",\"linecolor\":\"white\",\"ticks\":\"\"},\"baxis\":{\"gridcolor\":\"white\",\"linecolor\":\"white\",\"ticks\":\"\"},\"caxis\":{\"gridcolor\":\"white\",\"linecolor\":\"white\",\"ticks\":\"\"}},\"coloraxis\":{\"colorbar\":{\"outlinewidth\":0,\"ticks\":\"\"}},\"colorscale\":{\"sequential\":[[0.0,\"#0d0887\"],[0.1111111111111111,\"#46039f\"],[0.2222222222222222,\"#7201a8\"],[0.3333333333333333,\"#9c179e\"],[0.4444444444444444,\"#bd3786\"],[0.5555555555555556,\"#d8576b\"],[0.6666666666666666,\"#ed7953\"],[0.7777777777777778,\"#fb9f3a\"],[0.8888888888888888,\"#fdca26\"],[1.0,\"#f0f921\"]],\"sequentialminus\":[[0.0,\"#0d0887\"],[0.1111111111111111,\"#46039f\"],[0.2222222222222222,\"#7201a8\"],[0.3333333333333333,\"#9c179e\"],[0.4444444444444444,\"#bd3786\"],[0.5555555555555556,\"#d8576b\"],[0.6666666666666666,\"#ed7953\"],[0.7777777777777778,\"#fb9f3a\"],[0.8888888888888888,\"#fdca26\"],[1.0,\"#f0f921\"]],\"diverging\":[[0,\"#8e0152\"],[0.1,\"#c51b7d\"],[0.2,\"#de77ae\"],[0.3,\"#f1b6da\"],[0.4,\"#fde0ef\"],[0.5,\"#f7f7f7\"],[0.6,\"#e6f5d0\"],[0.7,\"#b8e186\"],[0.8,\"#7fbc41\"],[0.9,\"#4d9221\"],[1,\"#276419\"]]},\"xaxis\":{\"gridcolor\":\"white\",\"linecolor\":\"white\",\"ticks\":\"\",\"title\":{\"standoff\":15},\"zerolinecolor\":\"white\",\"automargin\":true,\"zerolinewidth\":2},\"yaxis\":{\"gridcolor\":\"white\",\"linecolor\":\"white\",\"ticks\":\"\",\"title\":{\"standoff\":15},\"zerolinecolor\":\"white\",\"automargin\":true,\"zerolinewidth\":2},\"scene\":{\"xaxis\":{\"backgroundcolor\":\"#E5ECF6\",\"gridcolor\":\"white\",\"linecolor\":\"white\",\"showbackground\":true,\"ticks\":\"\",\"zerolinecolor\":\"white\",\"gridwidth\":2},\"yaxis\":{\"backgroundcolor\":\"#E5ECF6\",\"gridcolor\":\"white\",\"linecolor\":\"white\",\"showbackground\":true,\"ticks\":\"\",\"zerolinecolor\":\"white\",\"gridwidth\":2},\"zaxis\":{\"backgroundcolor\":\"#E5ECF6\",\"gridcolor\":\"white\",\"linecolor\":\"white\",\"showbackground\":true,\"ticks\":\"\",\"zerolinecolor\":\"white\",\"gridwidth\":2}},\"shapedefaults\":{\"line\":{\"color\":\"#2a3f5f\"}},\"annotationdefaults\":{\"arrowcolor\":\"#2a3f5f\",\"arrowhead\":0,\"arrowwidth\":1},\"geo\":{\"bgcolor\":\"white\",\"landcolor\":\"#E5ECF6\",\"subunitcolor\":\"white\",\"showland\":true,\"showlakes\":true,\"lakecolor\":\"white\"},\"title\":{\"x\":0.05},\"mapbox\":{\"style\":\"light\"}}}},                        {\"responsive\": true}                    ).then(function(){\n",
              "                            \n",
              "var gd = document.getElementById('713db199-900d-41a9-8995-9d6d16483a67');\n",
              "var x = new MutationObserver(function (mutations, observer) {{\n",
              "        var display = window.getComputedStyle(gd).display;\n",
              "        if (!display || display === 'none') {{\n",
              "            console.log([gd, 'removed!']);\n",
              "            Plotly.purge(gd);\n",
              "            observer.disconnect();\n",
              "        }}\n",
              "}});\n",
              "\n",
              "// Listen for the removal of the full notebook cells\n",
              "var notebookContainer = gd.closest('#notebook-container');\n",
              "if (notebookContainer) {{\n",
              "    x.observe(notebookContainer, {childList: true});\n",
              "}}\n",
              "\n",
              "// Listen for the clearing of the current output cell\n",
              "var outputEl = gd.closest('.output');\n",
              "if (outputEl) {{\n",
              "    x.observe(outputEl, {childList: true});\n",
              "}}\n",
              "\n",
              "                        })                };                            </script>        </div>\n",
              "</body>\n",
              "</html>"
            ]
          },
          "metadata": {}
        }
      ]
    },
    {
      "cell_type": "code",
      "source": [
        "print(pca.explained_variance_ratio_)"
      ],
      "metadata": {
        "colab": {
          "base_uri": "https://localhost:8080/"
        },
        "id": "UcfAyPSpC-xr",
        "outputId": "e2fa65e1-11c8-4098-ffae-7b7e0382039d"
      },
      "execution_count": 28,
      "outputs": [
        {
          "output_type": "stream",
          "name": "stdout",
          "text": [
            "[0.23833434 0.0792323  0.05868436]\n"
          ]
        }
      ]
    }
  ]
}