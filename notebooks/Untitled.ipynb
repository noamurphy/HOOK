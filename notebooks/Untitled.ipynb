{
 "cells": [
  {
   "cell_type": "code",
   "execution_count": null,
   "id": "5078c317-a326-4e62-935e-930e73a701c5",
   "metadata": {
    "tags": []
   },
   "outputs": [],
   "source": [
    "import torch\n",
    "checkpoint = torch.load('../data/clmr_checkpoint_10000.pt')"
   ]
  },
  {
   "cell_type": "code",
   "execution_count": null,
   "id": "9ca06e5b-855e-498d-9580-230ba80b9f3f",
   "metadata": {},
   "outputs": [],
   "source": [
    "# Get the CLMR model from the checkpoint\n",
    "clmr_model = checkpoint['model']\n",
    "\n",
    "# Extract the proj_head layer from the CLMR model\n",
    "proj_head = clmr_model.proj_head\n",
    "\n",
    "# Set the CLMR model to evaluation mode\n",
    "clmr_model.eval()\n",
    "\n",
    "# Pass input data through the CLMR model and get the output from the proj_head layer\n",
    "with torch.no_grad():\n",
    "    representations = proj_head(clmr_model(input_data))"
   ]
  }
 ],
 "metadata": {
  "kernelspec": {
   "display_name": "Python 3 (ipykernel)",
   "language": "python",
   "name": "python3"
  },
  "language_info": {
   "codemirror_mode": {
    "name": "ipython",
    "version": 3
   },
   "file_extension": ".py",
   "mimetype": "text/x-python",
   "name": "python",
   "nbconvert_exporter": "python",
   "pygments_lexer": "ipython3",
   "version": "3.10.9"
  }
 },
 "nbformat": 4,
 "nbformat_minor": 5
}
